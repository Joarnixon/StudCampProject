{
 "cells": [
  {
   "cell_type": "code",
   "execution_count": 1,
   "metadata": {},
   "outputs": [],
   "source": [
    "import pandas as pd\n",
    "from sklearn.ensemble import RandomForestClassifier\n",
    "from sklearn.linear_model import LogisticRegression\n",
    "from sklearn.model_selection import cross_val_score, train_test_split\n",
    "from sklearn.feature_selection import SelectKBest, chi2\n",
    "from sklearn.decomposition import PCA\n",
    "from omegaconf import OmegaConf\n",
    "from sklearn.manifold import TSNE\n",
    "from sklearn.metrics import accuracy_score, recall_score\n",
    "import numpy as np\n",
    "import matplotlib.pyplot as plt"
   ]
  },
  {
   "cell_type": "code",
   "execution_count": 2,
   "metadata": {},
   "outputs": [],
   "source": [
    "df1 = pd.read_csv('csv_data/mutation.csv')\n",
    "df2 = pd.read_csv('csv_data/no_mutation.csv')\n",
    "\n",
    "#df1 = pd.read_csv('feature_vectors_mut.csv')\n",
    "#df2 = pd.read_csv('feature_vectors_nomut.csv')\n",
    "\n",
    "df1['mutation'] = 1\n",
    "df2['mutation'] = 0\n",
    "\n",
    "df = pd.concat([df1, df2])"
   ]
  },
  {
   "cell_type": "code",
   "execution_count": 11,
   "metadata": {},
   "outputs": [],
   "source": [
    "diagnostic_features = OmegaConf.load('config.yaml').exclude_features\n",
    "df_test = pd.read_csv('csv_data/OVER700_anonym.csv')\n",
    "df_test = df_test.drop(diagnostic_features, axis=1)\n",
    "df_test = df_test.drop(['name', 'mutation'], axis=1)"
   ]
  },
  {
   "cell_type": "code",
   "execution_count": 12,
   "metadata": {},
   "outputs": [
    {
     "ename": "KeyError",
     "evalue": "\"['filename'] not found in axis\"",
     "output_type": "error",
     "traceback": [
      "\u001b[1;31m---------------------------------------------------------------------------\u001b[0m",
      "\u001b[1;31mKeyError\u001b[0m                                  Traceback (most recent call last)",
      "Cell \u001b[1;32mIn[12], line 2\u001b[0m\n\u001b[0;32m      1\u001b[0m \u001b[38;5;66;03m#Удалим столбец с именем\u001b[39;00m\n\u001b[1;32m----> 2\u001b[0m df \u001b[38;5;241m=\u001b[39m \u001b[43mdf\u001b[49m\u001b[38;5;241;43m.\u001b[39;49m\u001b[43mdrop\u001b[49m\u001b[43m(\u001b[49m\u001b[38;5;124;43m'\u001b[39;49m\u001b[38;5;124;43mfilename\u001b[39;49m\u001b[38;5;124;43m'\u001b[39;49m\u001b[43m,\u001b[49m\u001b[43m \u001b[49m\u001b[43maxis\u001b[49m\u001b[38;5;241;43m=\u001b[39;49m\u001b[38;5;241;43m1\u001b[39;49m\u001b[43m)\u001b[49m\n",
      "File \u001b[1;32mc:\\Users\\kungu\\AppData\\Local\\Programs\\Python\\Python311\\Lib\\site-packages\\pandas\\core\\frame.py:5581\u001b[0m, in \u001b[0;36mDataFrame.drop\u001b[1;34m(self, labels, axis, index, columns, level, inplace, errors)\u001b[0m\n\u001b[0;32m   5433\u001b[0m \u001b[38;5;28;01mdef\u001b[39;00m \u001b[38;5;21mdrop\u001b[39m(\n\u001b[0;32m   5434\u001b[0m     \u001b[38;5;28mself\u001b[39m,\n\u001b[0;32m   5435\u001b[0m     labels: IndexLabel \u001b[38;5;241m|\u001b[39m \u001b[38;5;28;01mNone\u001b[39;00m \u001b[38;5;241m=\u001b[39m \u001b[38;5;28;01mNone\u001b[39;00m,\n\u001b[1;32m   (...)\u001b[0m\n\u001b[0;32m   5442\u001b[0m     errors: IgnoreRaise \u001b[38;5;241m=\u001b[39m \u001b[38;5;124m\"\u001b[39m\u001b[38;5;124mraise\u001b[39m\u001b[38;5;124m\"\u001b[39m,\n\u001b[0;32m   5443\u001b[0m ) \u001b[38;5;241m-\u001b[39m\u001b[38;5;241m>\u001b[39m DataFrame \u001b[38;5;241m|\u001b[39m \u001b[38;5;28;01mNone\u001b[39;00m:\n\u001b[0;32m   5444\u001b[0m \u001b[38;5;250m    \u001b[39m\u001b[38;5;124;03m\"\"\"\u001b[39;00m\n\u001b[0;32m   5445\u001b[0m \u001b[38;5;124;03m    Drop specified labels from rows or columns.\u001b[39;00m\n\u001b[0;32m   5446\u001b[0m \n\u001b[1;32m   (...)\u001b[0m\n\u001b[0;32m   5579\u001b[0m \u001b[38;5;124;03m            weight  1.0     0.8\u001b[39;00m\n\u001b[0;32m   5580\u001b[0m \u001b[38;5;124;03m    \"\"\"\u001b[39;00m\n\u001b[1;32m-> 5581\u001b[0m     \u001b[38;5;28;01mreturn\u001b[39;00m \u001b[38;5;28;43msuper\u001b[39;49m\u001b[43m(\u001b[49m\u001b[43m)\u001b[49m\u001b[38;5;241;43m.\u001b[39;49m\u001b[43mdrop\u001b[49m\u001b[43m(\u001b[49m\n\u001b[0;32m   5582\u001b[0m \u001b[43m        \u001b[49m\u001b[43mlabels\u001b[49m\u001b[38;5;241;43m=\u001b[39;49m\u001b[43mlabels\u001b[49m\u001b[43m,\u001b[49m\n\u001b[0;32m   5583\u001b[0m \u001b[43m        \u001b[49m\u001b[43maxis\u001b[49m\u001b[38;5;241;43m=\u001b[39;49m\u001b[43maxis\u001b[49m\u001b[43m,\u001b[49m\n\u001b[0;32m   5584\u001b[0m \u001b[43m        \u001b[49m\u001b[43mindex\u001b[49m\u001b[38;5;241;43m=\u001b[39;49m\u001b[43mindex\u001b[49m\u001b[43m,\u001b[49m\n\u001b[0;32m   5585\u001b[0m \u001b[43m        \u001b[49m\u001b[43mcolumns\u001b[49m\u001b[38;5;241;43m=\u001b[39;49m\u001b[43mcolumns\u001b[49m\u001b[43m,\u001b[49m\n\u001b[0;32m   5586\u001b[0m \u001b[43m        \u001b[49m\u001b[43mlevel\u001b[49m\u001b[38;5;241;43m=\u001b[39;49m\u001b[43mlevel\u001b[49m\u001b[43m,\u001b[49m\n\u001b[0;32m   5587\u001b[0m \u001b[43m        \u001b[49m\u001b[43minplace\u001b[49m\u001b[38;5;241;43m=\u001b[39;49m\u001b[43minplace\u001b[49m\u001b[43m,\u001b[49m\n\u001b[0;32m   5588\u001b[0m \u001b[43m        \u001b[49m\u001b[43merrors\u001b[49m\u001b[38;5;241;43m=\u001b[39;49m\u001b[43merrors\u001b[49m\u001b[43m,\u001b[49m\n\u001b[0;32m   5589\u001b[0m \u001b[43m    \u001b[49m\u001b[43m)\u001b[49m\n",
      "File \u001b[1;32mc:\\Users\\kungu\\AppData\\Local\\Programs\\Python\\Python311\\Lib\\site-packages\\pandas\\core\\generic.py:4788\u001b[0m, in \u001b[0;36mNDFrame.drop\u001b[1;34m(self, labels, axis, index, columns, level, inplace, errors)\u001b[0m\n\u001b[0;32m   4786\u001b[0m \u001b[38;5;28;01mfor\u001b[39;00m axis, labels \u001b[38;5;129;01min\u001b[39;00m axes\u001b[38;5;241m.\u001b[39mitems():\n\u001b[0;32m   4787\u001b[0m     \u001b[38;5;28;01mif\u001b[39;00m labels \u001b[38;5;129;01mis\u001b[39;00m \u001b[38;5;129;01mnot\u001b[39;00m \u001b[38;5;28;01mNone\u001b[39;00m:\n\u001b[1;32m-> 4788\u001b[0m         obj \u001b[38;5;241m=\u001b[39m \u001b[43mobj\u001b[49m\u001b[38;5;241;43m.\u001b[39;49m\u001b[43m_drop_axis\u001b[49m\u001b[43m(\u001b[49m\u001b[43mlabels\u001b[49m\u001b[43m,\u001b[49m\u001b[43m \u001b[49m\u001b[43maxis\u001b[49m\u001b[43m,\u001b[49m\u001b[43m \u001b[49m\u001b[43mlevel\u001b[49m\u001b[38;5;241;43m=\u001b[39;49m\u001b[43mlevel\u001b[49m\u001b[43m,\u001b[49m\u001b[43m \u001b[49m\u001b[43merrors\u001b[49m\u001b[38;5;241;43m=\u001b[39;49m\u001b[43merrors\u001b[49m\u001b[43m)\u001b[49m\n\u001b[0;32m   4790\u001b[0m \u001b[38;5;28;01mif\u001b[39;00m inplace:\n\u001b[0;32m   4791\u001b[0m     \u001b[38;5;28mself\u001b[39m\u001b[38;5;241m.\u001b[39m_update_inplace(obj)\n",
      "File \u001b[1;32mc:\\Users\\kungu\\AppData\\Local\\Programs\\Python\\Python311\\Lib\\site-packages\\pandas\\core\\generic.py:4830\u001b[0m, in \u001b[0;36mNDFrame._drop_axis\u001b[1;34m(self, labels, axis, level, errors, only_slice)\u001b[0m\n\u001b[0;32m   4828\u001b[0m         new_axis \u001b[38;5;241m=\u001b[39m axis\u001b[38;5;241m.\u001b[39mdrop(labels, level\u001b[38;5;241m=\u001b[39mlevel, errors\u001b[38;5;241m=\u001b[39merrors)\n\u001b[0;32m   4829\u001b[0m     \u001b[38;5;28;01melse\u001b[39;00m:\n\u001b[1;32m-> 4830\u001b[0m         new_axis \u001b[38;5;241m=\u001b[39m \u001b[43maxis\u001b[49m\u001b[38;5;241;43m.\u001b[39;49m\u001b[43mdrop\u001b[49m\u001b[43m(\u001b[49m\u001b[43mlabels\u001b[49m\u001b[43m,\u001b[49m\u001b[43m \u001b[49m\u001b[43merrors\u001b[49m\u001b[38;5;241;43m=\u001b[39;49m\u001b[43merrors\u001b[49m\u001b[43m)\u001b[49m\n\u001b[0;32m   4831\u001b[0m     indexer \u001b[38;5;241m=\u001b[39m axis\u001b[38;5;241m.\u001b[39mget_indexer(new_axis)\n\u001b[0;32m   4833\u001b[0m \u001b[38;5;66;03m# Case for non-unique axis\u001b[39;00m\n\u001b[0;32m   4834\u001b[0m \u001b[38;5;28;01melse\u001b[39;00m:\n",
      "File \u001b[1;32mc:\\Users\\kungu\\AppData\\Local\\Programs\\Python\\Python311\\Lib\\site-packages\\pandas\\core\\indexes\\base.py:7070\u001b[0m, in \u001b[0;36mIndex.drop\u001b[1;34m(self, labels, errors)\u001b[0m\n\u001b[0;32m   7068\u001b[0m \u001b[38;5;28;01mif\u001b[39;00m mask\u001b[38;5;241m.\u001b[39many():\n\u001b[0;32m   7069\u001b[0m     \u001b[38;5;28;01mif\u001b[39;00m errors \u001b[38;5;241m!=\u001b[39m \u001b[38;5;124m\"\u001b[39m\u001b[38;5;124mignore\u001b[39m\u001b[38;5;124m\"\u001b[39m:\n\u001b[1;32m-> 7070\u001b[0m         \u001b[38;5;28;01mraise\u001b[39;00m \u001b[38;5;167;01mKeyError\u001b[39;00m(\u001b[38;5;124mf\u001b[39m\u001b[38;5;124m\"\u001b[39m\u001b[38;5;132;01m{\u001b[39;00mlabels[mask]\u001b[38;5;241m.\u001b[39mtolist()\u001b[38;5;132;01m}\u001b[39;00m\u001b[38;5;124m not found in axis\u001b[39m\u001b[38;5;124m\"\u001b[39m)\n\u001b[0;32m   7071\u001b[0m     indexer \u001b[38;5;241m=\u001b[39m indexer[\u001b[38;5;241m~\u001b[39mmask]\n\u001b[0;32m   7072\u001b[0m \u001b[38;5;28;01mreturn\u001b[39;00m \u001b[38;5;28mself\u001b[39m\u001b[38;5;241m.\u001b[39mdelete(indexer)\n",
      "\u001b[1;31mKeyError\u001b[0m: \"['filename'] not found in axis\""
     ]
    }
   ],
   "source": [
    "#Удалим столбец с именем\n",
    "df = df.drop('filename', axis=1)"
   ]
  },
  {
   "cell_type": "code",
   "execution_count": 13,
   "metadata": {},
   "outputs": [],
   "source": [
    "#Выведем столбцы не float64 и не int64\n",
    "for i in df.columns:\n",
    "    if df[i].dtype != 'float64' and df[i].dtype != 'int64':\n",
    "        print(i)\n",
    "        "
   ]
  },
  {
   "cell_type": "code",
   "execution_count": 14,
   "metadata": {},
   "outputs": [],
   "source": [
    "# Разделение данных на признаки и целевую переменную\n",
    "X = df.drop(columns=['mutation'])\n",
    "y = df['mutation']"
   ]
  },
  {
   "cell_type": "code",
   "execution_count": 15,
   "metadata": {},
   "outputs": [
    {
     "name": "stderr",
     "output_type": "stream",
     "text": [
      "C:\\Users\\kungu\\AppData\\Local\\Temp\\ipykernel_2976\\4231542167.py:8: PerformanceWarning: DataFrame is highly fragmented.  This is usually the result of calling `frame.insert` many times, which has poor performance.  Consider joining all columns at once using pd.concat(axis=1) instead. To get a de-fragmented frame, use `newframe = frame.copy()`\n",
      "  df_sm['mutation'] = y_sm\n"
     ]
    }
   ],
   "source": [
    "from imblearn.over_sampling import SMOTE\n",
    "\n",
    "smote = SMOTE(sampling_strategy='minority', random_state=42)\n",
    "X_sm, y_sm = smote.fit_resample(X, y)\n",
    "\n",
    "#Сохраним датасет в файл\n",
    "df_sm = pd.DataFrame(X_sm)\n",
    "df_sm['mutation'] = y_sm"
   ]
  },
  {
   "cell_type": "markdown",
   "metadata": {},
   "source": [
    "# No modifications"
   ]
  },
  {
   "cell_type": "code",
   "execution_count": 17,
   "metadata": {},
   "outputs": [
    {
     "name": "stdout",
     "output_type": "stream",
     "text": [
      "Cross-validation score:\n",
      "Recall: 0.8307692307692308 Accuracy: 0.6398692810457516\n",
      "Predictions on over 700 data: [1 1 1 1 1 1 1 0 1 1 1 1 1 1 1 1 1 1 1 1 1 1 0 1 0 1 1 0 1 1 1 1 0 0 1 1 0\n",
      " 1 1 1 1 1 0 0 1 1] Accuracy 0.1956521739130435\n"
     ]
    }
   ],
   "source": [
    "X_train, X_test, y_train, y_test = train_test_split(X, y, test_size=0.4, random_state=42, stratify=y)\n",
    "\n",
    "clf = RandomForestClassifier(n_estimators=100, random_state=42)\n",
    "clf.fit(X_train, y_train)\n",
    "\n",
    "cv_scores_rec = cross_val_score(clf, X, y, cv=5, scoring='recall')\n",
    "cv_scores_acc = cross_val_score(clf, X, y, cv=5, scoring='accuracy')\n",
    "\n",
    "print(\"Cross-validation score:\")\n",
    "print('Recall:', np.mean(cv_scores_rec), 'Accuracy:', np.mean(cv_scores_acc))\n",
    "print('Predictions on over 700 data:', predictions := clf.predict(df_test), 'Accuracy', accuracy_score(predictions, np.zeros_like(predictions)))"
   ]
  },
  {
   "cell_type": "markdown",
   "metadata": {},
   "source": [
    "# With smote"
   ]
  },
  {
   "cell_type": "code",
   "execution_count": 18,
   "metadata": {},
   "outputs": [
    {
     "name": "stdout",
     "output_type": "stream",
     "text": [
      "Cross-validation score:\n",
      "Recall: 0.7076923076923076 Accuracy: 0.7307692307692307\n",
      "Predictions on over 700 data: [1 1 1 1 1 1 1 0 1 1 1 0 1 1 1 0 0 1 1 0 1 1 1 1 0 1 1 0 1 0 1 1 0 0 0 1 1\n",
      " 1 1 1 1 1 0 0 0 1] Accuracy 0.30434782608695654\n"
     ]
    }
   ],
   "source": [
    "from sklearn.ensemble import RandomForestClassifier\n",
    "from sklearn.model_selection import cross_val_score, train_test_split\n",
    "import numpy as np\n",
    "\n",
    "X_sm = df_sm.drop(columns=['mutation'])\n",
    "y_sm = df_sm['mutation']\n",
    "\n",
    "X_train, X_test, y_train, y_test = train_test_split(X_sm, y_sm, test_size=0.4, random_state=42, stratify=y_sm)\n",
    "\n",
    "clf = RandomForestClassifier(n_estimators=100, random_state=42)\n",
    "clf.fit(X_train, y_train)\n",
    "\n",
    "cv_scores_rec = cross_val_score(clf, X_sm, y_sm, cv=5, scoring='recall')\n",
    "cv_scores_acc = cross_val_score(clf, X_sm, y_sm, cv=5, scoring='accuracy')\n",
    "\n",
    "print(\"Cross-validation score:\")\n",
    "print('Recall:', np.mean(cv_scores_rec), 'Accuracy:', np.mean(cv_scores_acc))\n",
    "print('Predictions on over 700 data:', predictions := clf.predict(df_test), 'Accuracy', accuracy_score(predictions, np.zeros_like(predictions)))"
   ]
  },
  {
   "cell_type": "markdown",
   "metadata": {},
   "source": [
    "# FeatureSelection"
   ]
  },
  {
   "cell_type": "code",
   "execution_count": 19,
   "metadata": {},
   "outputs": [],
   "source": [
    "def select_by_p_value(excel_table: str, quantile=0.9):\n",
    "    feature_difference = pd.read_excel(excel_table)\n",
    "\n",
    "    p_ks_max = feature_difference['P_ks_test'].quantile(quantile)\n",
    "    p_mw_max = feature_difference['P_mw_test'].quantile(quantile)\n",
    "\n",
    "    drop_features_1 = feature_difference[feature_difference['P_ks_test'] > p_ks_max]['Факторы']\n",
    "    drop_features_2 = feature_difference[feature_difference['P_mw_test'] > p_mw_max]['Факторы']\n",
    "\n",
    "    drop_features = set(drop_features_1) | set(drop_features_2) # or &\n",
    "    print('Number dropped:', len(drop_features), p_ks_max, p_mw_max)\n",
    "    return drop_features"
   ]
  },
  {
   "cell_type": "markdown",
   "metadata": {},
   "source": [
    "### P-value"
   ]
  },
  {
   "cell_type": "code",
   "execution_count": 21,
   "metadata": {},
   "outputs": [
    {
     "name": "stdout",
     "output_type": "stream",
     "text": [
      "Number dropped: 103 0.028180000000000004 0.051375000000000004\n",
      "Cross-validation score:\n",
      "Recall: 0.8 Accuracy: 0.6065359477124184\n",
      "Predictions on over 700 data: [0 1 1 1 1 1 1 0 1 1 1 1 1 1 1 1 1 1 1 1 0 1 0 1 0 1 1 0 1 1 1 1 0 0 1 1 1\n",
      " 0 1 1 1 1 0 0 1 1] Accuracy 0.2391304347826087\n"
     ]
    }
   ],
   "source": [
    "p_value_drop = select_by_p_value(\"features_difference (12).xlsx\", quantile=0.05)\n",
    "X_selected = X.drop(p_value_drop, axis=1).copy()\n",
    "\n",
    "X_train, X_test, y_train, y_test = train_test_split(X_selected, y, test_size=0.4, random_state=42, stratify=y)\n",
    "\n",
    "clf = RandomForestClassifier(n_estimators=100, random_state=42)\n",
    "clf.fit(X_train, y_train)\n",
    "\n",
    "cv_scores_rec = cross_val_score(clf, X_selected, y, cv=5, scoring='recall')\n",
    "cv_scores_acc = cross_val_score(clf, X_selected, y, cv=5, scoring='accuracy')\n",
    "\n",
    "print(\"Cross-validation score:\")\n",
    "print('Recall:', np.mean(cv_scores_rec), 'Accuracy:', np.mean(cv_scores_acc))\n",
    "print('Predictions on over 700 data:', predictions := clf.predict(df_test.drop(p_value_drop, axis=1)), 'Accuracy', accuracy_score(predictions, np.zeros_like(predictions)))"
   ]
  },
  {
   "cell_type": "markdown",
   "metadata": {},
   "source": [
    "### KBest (sklearn)"
   ]
  },
  {
   "cell_type": "code",
   "execution_count": 22,
   "metadata": {},
   "outputs": [
    {
     "name": "stdout",
     "output_type": "stream",
     "text": [
      "Cross-validation score:\n",
      "Recall: 0.8461538461538461 Accuracy: 0.6287581699346405\n",
      "Predictions on over 700 data: [0 1 1 1 1 1 1 0 1 1 1 1 1 1 1 1 1 1 1 1 1 1 0 1 0 1 1 0 1 1 1 1 0 0 1 1 0\n",
      " 0 1 1 1 1 0 0 1 1] Accuracy 0.2391304347826087\n"
     ]
    }
   ],
   "source": [
    "k = 40  # Количество признаков для выбора\n",
    "selector = SelectKBest(k=k)\n",
    "X_new = selector.fit_transform(X, y)\n",
    "\n",
    "# Получение имен выбранных признаков\n",
    "selected_features = X.columns[selector.get_support()]\n",
    "X_new = pd.DataFrame(X_new, columns=selected_features)\n",
    "\n",
    "X_train, X_test, y_train, y_test = train_test_split(X_new, y, test_size=0.4, random_state=42, stratify=y)\n",
    "\n",
    "clf = RandomForestClassifier(n_estimators=100, random_state=42)\n",
    "clf.fit(X_train, y_train)\n",
    "\n",
    "cv_scores_rec = cross_val_score(clf, X_new, y, cv=5, scoring='recall')\n",
    "cv_scores_acc = cross_val_score(clf, X_new, y, cv=5, scoring='accuracy')\n",
    "\n",
    "print(\"Cross-validation score:\")\n",
    "print('Recall:', np.mean(cv_scores_rec), 'Accuracy:', np.mean(cv_scores_acc))\n",
    "print('Predictions on over 700 data:', predictions := clf.predict(df_test[selected_features]), 'Accuracy', accuracy_score(predictions, np.zeros_like(predictions)))"
   ]
  },
  {
   "cell_type": "markdown",
   "metadata": {},
   "source": [
    "# Random noise comparison"
   ]
  },
  {
   "cell_type": "code",
   "execution_count": 24,
   "metadata": {},
   "outputs": [],
   "source": [
    "def compare_with_random_noise(X, y):\n",
    "        n_samples = X.shape[0]\n",
    "        np.random.seed(21)\n",
    "        random_feature1 = np.random.exponential(1, n_samples)\n",
    "        random_feature2 = np.random.normal(5, 2, n_samples)\n",
    "        random_feature3 = np.random.normal(10, 10, n_samples)\n",
    "        \n",
    "        random_df = pd.DataFrame({\n",
    "            'random_feature1': random_feature1,\n",
    "            'random_feature2': random_feature2,\n",
    "            'random_feature3': random_feature3\n",
    "        })\n",
    "    \n",
    "        X_extended = X.join(random_df).copy()\n",
    "\n",
    "\n",
    "        rf = RandomForestClassifier(n_estimators=100, random_state=42, class_weight='balanced')\n",
    "        rf.fit(X_extended, y)\n",
    "        \n",
    "        importances = rf.feature_importances_\n",
    "        dummy_importance = max(importances[-3:])\n",
    "        \n",
    "        less_important_indices = np.where(importances[:-3] < dummy_importance)[0]\n",
    "        \n",
    "        less_important_features = np.array(X.columns)[less_important_indices]\n",
    "        \n",
    "        print(\"Features dropped:\", len(less_important_features))\n",
    "        return less_important_features"
   ]
  },
  {
   "cell_type": "code",
   "execution_count": 25,
   "metadata": {},
   "outputs": [
    {
     "name": "stdout",
     "output_type": "stream",
     "text": [
      "Features dropped: 92\n",
      "Cross-validation score:\n",
      "Recall: 0.8461538461538461 Accuracy: 0.6967320261437908\n",
      "Predictions on over 700 data: [0 1 1 1 1 1 0 1 1 1 1 1 1 1 1 1 1 1 1 1 1 1 0 1 0 1 1 0 1 0 1 1 0 0 1 1 1\n",
      " 0 1 1 1 1 0 0 1 1] Accuracy 0.2391304347826087\n"
     ]
    }
   ],
   "source": [
    "noise_compared = compare_with_random_noise(X, y)\n",
    "X_compared = X.drop(noise_compared, axis=1)\n",
    "\n",
    "X_train, X_test, y_train, y_test = train_test_split(X_compared, y, test_size=0.4, random_state=42, stratify=y)\n",
    "\n",
    "clf = RandomForestClassifier(n_estimators=100, random_state=42)\n",
    "clf.fit(X_train, y_train)\n",
    "\n",
    "cv_scores_rec = cross_val_score(clf, X_compared, y, cv=5, scoring='recall')\n",
    "cv_scores_acc = cross_val_score(clf, X_compared, y, cv=5, scoring='accuracy')\n",
    "\n",
    "print(\"Cross-validation score:\")\n",
    "print('Recall:', np.mean(cv_scores_rec), 'Accuracy:', np.mean(cv_scores_acc))\n",
    "print('Predictions on over 700 data:', predictions := clf.predict(df_test.drop(noise_compared, axis=1)), 'Accuracy', accuracy_score(predictions, np.zeros_like(predictions)))"
   ]
  },
  {
   "cell_type": "markdown",
   "metadata": {},
   "source": [
    "# P-value + Random Noise"
   ]
  },
  {
   "cell_type": "code",
   "execution_count": 26,
   "metadata": {},
   "outputs": [
    {
     "name": "stdout",
     "output_type": "stream",
     "text": [
      "Number dropped: 103 0.028180000000000004 0.051375000000000004\n",
      "Features dropped: 3\n",
      "Cross-validation score:\n",
      "Recall: 0.8307692307692308 Accuracy: 0.6738562091503268\n",
      "Predictions on over 700 data: [0 0 1 1 1 1 1 1 1 1 1 1 1 1 1 0 1 1 1 1 1 1 0 1 0 1 1 0 1 0 1 1 1 0 1 1 1\n",
      " 0 1 1 1 1 0 0 1 1] Accuracy 0.2391304347826087\n"
     ]
    }
   ],
   "source": [
    "p_value_drop = select_by_p_value(\"features_difference (12).xlsx\", quantile=0.05)\n",
    "X_selected = X.drop(p_value_drop, axis=1).copy()\n",
    "\n",
    "noise_compared = compare_with_random_noise(X_selected, y)\n",
    "X_compared_selected = X_selected.drop(noise_compared, axis=1)\n",
    "\n",
    "X_train, X_test, y_train, y_test = train_test_split(X_compared_selected, y, test_size=0.4, random_state=42, stratify=y)\n",
    "\n",
    "clf = RandomForestClassifier(n_estimators=100, random_state=42)\n",
    "clf.fit(X_train, y_train)\n",
    "\n",
    "cv_scores_rec = cross_val_score(clf, X_compared_selected, y, cv=5, scoring='recall')\n",
    "cv_scores_acc = cross_val_score(clf, X_compared_selected, y, cv=5, scoring='accuracy')\n",
    "\n",
    "print(\"Cross-validation score:\")\n",
    "print('Recall:', np.mean(cv_scores_rec), 'Accuracy:', np.mean(cv_scores_acc))\n",
    "print('Predictions on over 700 data:', predictions := clf.predict(df_test.drop(list(p_value_drop) + list(noise_compared), axis=1)), 'Accuracy', accuracy_score(predictions, np.zeros_like(predictions)))"
   ]
  },
  {
   "cell_type": "markdown",
   "metadata": {},
   "source": [
    "# H2O AutoML"
   ]
  },
  {
   "cell_type": "markdown",
   "metadata": {},
   "source": [
    "## Долго, не понятно как интерпретировать модели, которые он строит"
   ]
  },
  {
   "cell_type": "code",
   "execution_count": 22,
   "metadata": {},
   "outputs": [],
   "source": [
    "# import h2o\n",
    "# from h2o.automl import H2OAutoML"
   ]
  },
  {
   "cell_type": "code",
   "execution_count": 23,
   "metadata": {},
   "outputs": [],
   "source": [
    "# h2o.init()\n",
    "\n",
    "# h2o_X = h2o.H2OFrame(X)\n",
    "# h2o_y = h2o.H2OFrame(np.array(y))\n",
    "\n",
    "# h2o_y[h2o_y.columns[0]] = h2o_y[h2o_y.columns[0]].asfactor()\n",
    "\n",
    "# h2o_data = h2o_X.cbind(h2o_y)\n",
    "\n",
    "# train, test = h2o_data.split_frame(ratios=[0.6], seed=42)\n",
    "\n",
    "# feature_cols = h2o_X.columns\n",
    "# target_col = h2o_y.columns[0]\n",
    "\n",
    "# # Run AutoML\n",
    "# aml = H2OAutoML(max_runtime_secs=3600,\n",
    "#                 seed=42,\n",
    "#                 sort_metric='recall',\n",
    "#                 nfolds=5,  # 5 cross-validation\n",
    "#                 balance_classes=True,\n",
    "#                 max_models=20)\n",
    "\n",
    "# aml.train(x=feature_cols, y=target_col, training_frame=train)\n",
    "\n",
    "# lb = aml.leaderboard\n",
    "# print(lb.head(rows=lb.nrows))\n",
    "\n",
    "# best_model = aml.leader\n",
    "\n",
    "# performance = best_model.model_performance(test)\n",
    "\n",
    "# print(\"Test Set Metrics:\")\n",
    "# print(\"AUC:\", performance.auc())\n",
    "# print(\"Recall:\", performance.recall())\n",
    "# print(\"Accuracy:\", performance.accuracy())\n",
    "\n",
    "# print(performance)\n",
    "\n",
    "# # Shutdown H2O\n",
    "# h2o.shutdown()"
   ]
  },
  {
   "cell_type": "markdown",
   "metadata": {},
   "source": [
    "# Латентные представления, старый АвтоЭнкодер"
   ]
  },
  {
   "cell_type": "code",
   "execution_count": 27,
   "metadata": {},
   "outputs": [],
   "source": [
    "df1 = pd.read_csv('csv_data/mutation_latents.csv', index_col='filename')\n",
    "df2 = pd.read_csv('csv_data/no_mutation_latents.csv', index_col='filename')\n",
    "\n",
    "#df1 = pd.read_csv('feature_vectors_mut.csv')\n",
    "#df2 = pd.read_csv('feature_vectors_nomut.csv')\n",
    "\n",
    "df1['mutation'] = 1\n",
    "df2['mutation'] = 0\n",
    "\n",
    "df_latents = pd.concat([df1, df2])"
   ]
  },
  {
   "cell_type": "code",
   "execution_count": 28,
   "metadata": {},
   "outputs": [],
   "source": [
    "df_latents = df_latents.reset_index().drop(['filename'], axis=1)"
   ]
  },
  {
   "cell_type": "code",
   "execution_count": 29,
   "metadata": {},
   "outputs": [],
   "source": [
    "def select_best_by_p_value(excel_table: str, pvalue=0.05):\n",
    "    feature_difference = pd.read_excel(excel_table)\n",
    "\n",
    "    drop_features_1 = feature_difference[feature_difference['P_ks_test'] > pvalue]['Факторы']\n",
    "    drop_features_2 = feature_difference[feature_difference['P_mw_test'] > pvalue]['Факторы']\n",
    "\n",
    "    drop_features = set(drop_features_1) & set(drop_features_2) # or &\n",
    "    print('Number dropped:', len(drop_features))\n",
    "    return drop_features"
   ]
  },
  {
   "cell_type": "code",
   "execution_count": 30,
   "metadata": {},
   "outputs": [],
   "source": [
    "# Разделение данных на признаки и целевую переменную\n",
    "X_latents = df_latents.drop(columns=['mutation'])\n",
    "y_latents = df_latents['mutation']"
   ]
  },
  {
   "cell_type": "code",
   "execution_count": 31,
   "metadata": {},
   "outputs": [
    {
     "name": "stdout",
     "output_type": "stream",
     "text": [
      "Number dropped: 476\n"
     ]
    }
   ],
   "source": [
    "p_value_drop = select_best_by_p_value(\"features_difference latents.xlsx\", pvalue=0.01)\n",
    "X_selected = X_latents.drop(p_value_drop, axis=1).copy()"
   ]
  },
  {
   "cell_type": "markdown",
   "metadata": {},
   "source": [
    "# Латентные + оригинальные"
   ]
  },
  {
   "cell_type": "code",
   "execution_count": 32,
   "metadata": {},
   "outputs": [],
   "source": [
    "X_latents_700 = pd.read_csv('csv_data/unknown_700_latents.csv', index_col='filename')\n",
    "X_latents_700 = X_latents_700.reset_index().drop(['filename'], axis=1)"
   ]
  },
  {
   "cell_type": "code",
   "execution_count": 30,
   "metadata": {},
   "outputs": [
    {
     "name": "stdout",
     "output_type": "stream",
     "text": [
      "Cross-validation score:\n",
      "Recall: 0.876923076923077 Accuracy: 0.7071895424836601\n",
      "Predictions on over 700 data: [1 1 1 1 1 1 1 1 1 1]\n"
     ]
    }
   ],
   "source": [
    "X_selected_with_features = pd.concat([X_selected.reset_index(), X.reset_index()], axis=1).drop(['index'], axis=1)\n",
    "X_train, X_test, y_train, y_test = train_test_split(X_selected_with_features, y, test_size=0.4, random_state=42, stratify=y)\n",
    "\n",
    "clf = RandomForestClassifier(random_state=42)\n",
    "clf.fit(X_train, y_train)\n",
    "\n",
    "cv_scores_rec = cross_val_score(clf, X_selected_with_features, y, cv=5, scoring='recall')\n",
    "cv_scores_acc = cross_val_score(clf, X_selected_with_features, y, cv=5, scoring='accuracy')\n",
    "\n",
    "print(\"Cross-validation score:\")\n",
    "print('Recall:', np.mean(cv_scores_rec), 'Accuracy:', np.mean(cv_scores_acc))\n",
    "print('Predictions on over 700 data:', clf.predict(pd.concat([X_latents_700.drop(p_value_drop, axis=1).reset_index(), df_test.reset_index()], axis=1).drop(['index'], axis=1)))"
   ]
  },
  {
   "cell_type": "markdown",
   "metadata": {},
   "source": [
    "# Only latents"
   ]
  },
  {
   "cell_type": "code",
   "execution_count": 31,
   "metadata": {},
   "outputs": [
    {
     "name": "stdout",
     "output_type": "stream",
     "text": [
      "Cross-validation score:\n",
      "Recall: 0.9230769230769231 Accuracy: 0.7529411764705882\n",
      "Predictions on over 700 data: [1 1 1 1 1 1 1 1 1 1]\n"
     ]
    }
   ],
   "source": [
    "X_train, X_test, y_train, y_test = train_test_split(X_selected, y_latents, test_size=0.4, random_state=42, stratify=y_latents)\n",
    "\n",
    "clf = RandomForestClassifier(random_state=42)\n",
    "clf.fit(X_train, y_train)\n",
    "\n",
    "cv_scores_rec = cross_val_score(clf, X_selected, y_latents, cv=5, scoring='recall')\n",
    "cv_scores_acc = cross_val_score(clf, X_selected, y_latents, cv=5, scoring='accuracy')\n",
    "\n",
    "print(\"Cross-validation score:\")\n",
    "print('Recall:', np.mean(cv_scores_rec), 'Accuracy:', np.mean(cv_scores_acc))\n",
    "print('Predictions on over 700 data:', clf.predict(X_latents_700.drop(p_value_drop, axis=1)))"
   ]
  },
  {
   "cell_type": "markdown",
   "metadata": {},
   "source": [
    "# PCA analys"
   ]
  },
  {
   "cell_type": "markdown",
   "metadata": {},
   "source": [
    "### Old encoder latents"
   ]
  },
  {
   "cell_type": "code",
   "execution_count": 32,
   "metadata": {},
   "outputs": [],
   "source": [
    "n_components = 2\n",
    "pca = TSNE(n_components=n_components, perplexity=10)\n",
    "principal_components = pca.fit_transform(X_latents)"
   ]
  },
  {
   "cell_type": "code",
   "execution_count": 33,
   "metadata": {},
   "outputs": [
    {
     "data": {
      "image/png": "[encoded data removed]",
      "text/plain": [
       "<Figure size 640x480 with 1 Axes>"
      ]
     },
     "metadata": {},
     "output_type": "display_data"
    }
   ],
   "source": [
    "plt.scatter(principal_components[:, 0], principal_components[:, 1], c=np.array(y))\n",
    "plt.show()"
   ]
  },
  {
   "cell_type": "code",
   "execution_count": null,
   "metadata": {},
   "outputs": [],
   "source": []
  }
 ],
 "metadata": {
  "kernelspec": {
   "display_name": ".venv",
   "language": "python",
   "name": "python3"
  },
  "language_info": {
   "codemirror_mode": {
    "name": "ipython",
    "version": 3
   },
   "file_extension": ".py",
   "mimetype": "text/x-python",
   "name": "python",
   "nbconvert_exporter": "python",
   "pygments_lexer": "ipython3",
   "version": "3.11.9"
  }
 },
 "nbformat": 4,
 "nbformat_minor": 2
}

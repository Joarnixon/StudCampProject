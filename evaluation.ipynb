{
 "cells": [
  {
   "cell_type": "code",
   "execution_count": 57,
   "metadata": {},
   "outputs": [],
   "source": [
    "import pandas as pd\n",
    "from sklearn.ensemble import RandomForestClassifier\n",
    "from sklearn.linear_model import LogisticRegression\n",
    "from sklearn.model_selection import cross_val_score, train_test_split\n",
    "from sklearn.feature_selection import SelectKBest, chi2\n",
    "from sklearn.decomposition import PCA\n",
    "from omegaconf import OmegaConf\n",
    "import plotly.graph_objects as go\n",
    "from sklearn.manifold import TSNE\n",
    "from sklearn.metrics import accuracy_score, recall_score\n",
    "import numpy as np\n",
    "import matplotlib.pyplot as plt"
   ]
  },
  {
   "cell_type": "code",
   "execution_count": 2,
   "metadata": {},
   "outputs": [],
   "source": [
    "df1 = pd.read_csv('csv_data/mutation.csv')\n",
    "df2 = pd.read_csv('csv_data/no_mutation.csv')\n",
    "\n",
    "#df1 = pd.read_csv('feature_vectors_mut.csv')\n",
    "#df2 = pd.read_csv('feature_vectors_nomut.csv')\n",
    "\n",
    "df1['mutation'] = 1\n",
    "df2['mutation'] = 0\n",
    "\n",
    "df = pd.concat([df1, df2])"
   ]
  },
  {
   "cell_type": "code",
   "execution_count": 11,
   "metadata": {},
   "outputs": [],
   "source": [
    "diagnostic_features = OmegaConf.load('config.yaml').exclude_features\n",
    "df_test = pd.read_csv('csv_data/OVER700_anonym.csv')\n",
    "df_test = df_test.drop(diagnostic_features, axis=1)\n",
    "df_test = df_test.drop(['name', 'mutation'], axis=1)"
   ]
  },
  {
   "cell_type": "code",
   "execution_count": 12,
   "metadata": {},
   "outputs": [
    {
     "ename": "KeyError",
     "evalue": "\"['filename'] not found in axis\"",
     "output_type": "error",
     "traceback": [
      "\u001b[1;31m---------------------------------------------------------------------------\u001b[0m",
      "\u001b[1;31mKeyError\u001b[0m                                  Traceback (most recent call last)",
      "Cell \u001b[1;32mIn[12], line 2\u001b[0m\n\u001b[0;32m      1\u001b[0m \u001b[38;5;66;03m#Удалим столбец с именем\u001b[39;00m\n\u001b[1;32m----> 2\u001b[0m df \u001b[38;5;241m=\u001b[39m \u001b[43mdf\u001b[49m\u001b[38;5;241;43m.\u001b[39;49m\u001b[43mdrop\u001b[49m\u001b[43m(\u001b[49m\u001b[38;5;124;43m'\u001b[39;49m\u001b[38;5;124;43mfilename\u001b[39;49m\u001b[38;5;124;43m'\u001b[39;49m\u001b[43m,\u001b[49m\u001b[43m \u001b[49m\u001b[43maxis\u001b[49m\u001b[38;5;241;43m=\u001b[39;49m\u001b[38;5;241;43m1\u001b[39;49m\u001b[43m)\u001b[49m\n",
      "File \u001b[1;32mc:\\Users\\kungu\\AppData\\Local\\Programs\\Python\\Python311\\Lib\\site-packages\\pandas\\core\\frame.py:5581\u001b[0m, in \u001b[0;36mDataFrame.drop\u001b[1;34m(self, labels, axis, index, columns, level, inplace, errors)\u001b[0m\n\u001b[0;32m   5433\u001b[0m \u001b[38;5;28;01mdef\u001b[39;00m \u001b[38;5;21mdrop\u001b[39m(\n\u001b[0;32m   5434\u001b[0m     \u001b[38;5;28mself\u001b[39m,\n\u001b[0;32m   5435\u001b[0m     labels: IndexLabel \u001b[38;5;241m|\u001b[39m \u001b[38;5;28;01mNone\u001b[39;00m \u001b[38;5;241m=\u001b[39m \u001b[38;5;28;01mNone\u001b[39;00m,\n\u001b[1;32m   (...)\u001b[0m\n\u001b[0;32m   5442\u001b[0m     errors: IgnoreRaise \u001b[38;5;241m=\u001b[39m \u001b[38;5;124m\"\u001b[39m\u001b[38;5;124mraise\u001b[39m\u001b[38;5;124m\"\u001b[39m,\n\u001b[0;32m   5443\u001b[0m ) \u001b[38;5;241m-\u001b[39m\u001b[38;5;241m>\u001b[39m DataFrame \u001b[38;5;241m|\u001b[39m \u001b[38;5;28;01mNone\u001b[39;00m:\n\u001b[0;32m   5444\u001b[0m \u001b[38;5;250m    \u001b[39m\u001b[38;5;124;03m\"\"\"\u001b[39;00m\n\u001b[0;32m   5445\u001b[0m \u001b[38;5;124;03m    Drop specified labels from rows or columns.\u001b[39;00m\n\u001b[0;32m   5446\u001b[0m \n\u001b[1;32m   (...)\u001b[0m\n\u001b[0;32m   5579\u001b[0m \u001b[38;5;124;03m            weight  1.0     0.8\u001b[39;00m\n\u001b[0;32m   5580\u001b[0m \u001b[38;5;124;03m    \"\"\"\u001b[39;00m\n\u001b[1;32m-> 5581\u001b[0m     \u001b[38;5;28;01mreturn\u001b[39;00m \u001b[38;5;28;43msuper\u001b[39;49m\u001b[43m(\u001b[49m\u001b[43m)\u001b[49m\u001b[38;5;241;43m.\u001b[39;49m\u001b[43mdrop\u001b[49m\u001b[43m(\u001b[49m\n\u001b[0;32m   5582\u001b[0m \u001b[43m        \u001b[49m\u001b[43mlabels\u001b[49m\u001b[38;5;241;43m=\u001b[39;49m\u001b[43mlabels\u001b[49m\u001b[43m,\u001b[49m\n\u001b[0;32m   5583\u001b[0m \u001b[43m        \u001b[49m\u001b[43maxis\u001b[49m\u001b[38;5;241;43m=\u001b[39;49m\u001b[43maxis\u001b[49m\u001b[43m,\u001b[49m\n\u001b[0;32m   5584\u001b[0m \u001b[43m        \u001b[49m\u001b[43mindex\u001b[49m\u001b[38;5;241;43m=\u001b[39;49m\u001b[43mindex\u001b[49m\u001b[43m,\u001b[49m\n\u001b[0;32m   5585\u001b[0m \u001b[43m        \u001b[49m\u001b[43mcolumns\u001b[49m\u001b[38;5;241;43m=\u001b[39;49m\u001b[43mcolumns\u001b[49m\u001b[43m,\u001b[49m\n\u001b[0;32m   5586\u001b[0m \u001b[43m        \u001b[49m\u001b[43mlevel\u001b[49m\u001b[38;5;241;43m=\u001b[39;49m\u001b[43mlevel\u001b[49m\u001b[43m,\u001b[49m\n\u001b[0;32m   5587\u001b[0m \u001b[43m        \u001b[49m\u001b[43minplace\u001b[49m\u001b[38;5;241;43m=\u001b[39;49m\u001b[43minplace\u001b[49m\u001b[43m,\u001b[49m\n\u001b[0;32m   5588\u001b[0m \u001b[43m        \u001b[49m\u001b[43merrors\u001b[49m\u001b[38;5;241;43m=\u001b[39;49m\u001b[43merrors\u001b[49m\u001b[43m,\u001b[49m\n\u001b[0;32m   5589\u001b[0m \u001b[43m    \u001b[49m\u001b[43m)\u001b[49m\n",
      "File \u001b[1;32mc:\\Users\\kungu\\AppData\\Local\\Programs\\Python\\Python311\\Lib\\site-packages\\pandas\\core\\generic.py:4788\u001b[0m, in \u001b[0;36mNDFrame.drop\u001b[1;34m(self, labels, axis, index, columns, level, inplace, errors)\u001b[0m\n\u001b[0;32m   4786\u001b[0m \u001b[38;5;28;01mfor\u001b[39;00m axis, labels \u001b[38;5;129;01min\u001b[39;00m axes\u001b[38;5;241m.\u001b[39mitems():\n\u001b[0;32m   4787\u001b[0m     \u001b[38;5;28;01mif\u001b[39;00m labels \u001b[38;5;129;01mis\u001b[39;00m \u001b[38;5;129;01mnot\u001b[39;00m \u001b[38;5;28;01mNone\u001b[39;00m:\n\u001b[1;32m-> 4788\u001b[0m         obj \u001b[38;5;241m=\u001b[39m \u001b[43mobj\u001b[49m\u001b[38;5;241;43m.\u001b[39;49m\u001b[43m_drop_axis\u001b[49m\u001b[43m(\u001b[49m\u001b[43mlabels\u001b[49m\u001b[43m,\u001b[49m\u001b[43m \u001b[49m\u001b[43maxis\u001b[49m\u001b[43m,\u001b[49m\u001b[43m \u001b[49m\u001b[43mlevel\u001b[49m\u001b[38;5;241;43m=\u001b[39;49m\u001b[43mlevel\u001b[49m\u001b[43m,\u001b[49m\u001b[43m \u001b[49m\u001b[43merrors\u001b[49m\u001b[38;5;241;43m=\u001b[39;49m\u001b[43merrors\u001b[49m\u001b[43m)\u001b[49m\n\u001b[0;32m   4790\u001b[0m \u001b[38;5;28;01mif\u001b[39;00m inplace:\n\u001b[0;32m   4791\u001b[0m     \u001b[38;5;28mself\u001b[39m\u001b[38;5;241m.\u001b[39m_update_inplace(obj)\n",
      "File \u001b[1;32mc:\\Users\\kungu\\AppData\\Local\\Programs\\Python\\Python311\\Lib\\site-packages\\pandas\\core\\generic.py:4830\u001b[0m, in \u001b[0;36mNDFrame._drop_axis\u001b[1;34m(self, labels, axis, level, errors, only_slice)\u001b[0m\n\u001b[0;32m   4828\u001b[0m         new_axis \u001b[38;5;241m=\u001b[39m axis\u001b[38;5;241m.\u001b[39mdrop(labels, level\u001b[38;5;241m=\u001b[39mlevel, errors\u001b[38;5;241m=\u001b[39merrors)\n\u001b[0;32m   4829\u001b[0m     \u001b[38;5;28;01melse\u001b[39;00m:\n\u001b[1;32m-> 4830\u001b[0m         new_axis \u001b[38;5;241m=\u001b[39m \u001b[43maxis\u001b[49m\u001b[38;5;241;43m.\u001b[39;49m\u001b[43mdrop\u001b[49m\u001b[43m(\u001b[49m\u001b[43mlabels\u001b[49m\u001b[43m,\u001b[49m\u001b[43m \u001b[49m\u001b[43merrors\u001b[49m\u001b[38;5;241;43m=\u001b[39;49m\u001b[43merrors\u001b[49m\u001b[43m)\u001b[49m\n\u001b[0;32m   4831\u001b[0m     indexer \u001b[38;5;241m=\u001b[39m axis\u001b[38;5;241m.\u001b[39mget_indexer(new_axis)\n\u001b[0;32m   4833\u001b[0m \u001b[38;5;66;03m# Case for non-unique axis\u001b[39;00m\n\u001b[0;32m   4834\u001b[0m \u001b[38;5;28;01melse\u001b[39;00m:\n",
      "File \u001b[1;32mc:\\Users\\kungu\\AppData\\Local\\Programs\\Python\\Python311\\Lib\\site-packages\\pandas\\core\\indexes\\base.py:7070\u001b[0m, in \u001b[0;36mIndex.drop\u001b[1;34m(self, labels, errors)\u001b[0m\n\u001b[0;32m   7068\u001b[0m \u001b[38;5;28;01mif\u001b[39;00m mask\u001b[38;5;241m.\u001b[39many():\n\u001b[0;32m   7069\u001b[0m     \u001b[38;5;28;01mif\u001b[39;00m errors \u001b[38;5;241m!=\u001b[39m \u001b[38;5;124m\"\u001b[39m\u001b[38;5;124mignore\u001b[39m\u001b[38;5;124m\"\u001b[39m:\n\u001b[1;32m-> 7070\u001b[0m         \u001b[38;5;28;01mraise\u001b[39;00m \u001b[38;5;167;01mKeyError\u001b[39;00m(\u001b[38;5;124mf\u001b[39m\u001b[38;5;124m\"\u001b[39m\u001b[38;5;132;01m{\u001b[39;00mlabels[mask]\u001b[38;5;241m.\u001b[39mtolist()\u001b[38;5;132;01m}\u001b[39;00m\u001b[38;5;124m not found in axis\u001b[39m\u001b[38;5;124m\"\u001b[39m)\n\u001b[0;32m   7071\u001b[0m     indexer \u001b[38;5;241m=\u001b[39m indexer[\u001b[38;5;241m~\u001b[39mmask]\n\u001b[0;32m   7072\u001b[0m \u001b[38;5;28;01mreturn\u001b[39;00m \u001b[38;5;28mself\u001b[39m\u001b[38;5;241m.\u001b[39mdelete(indexer)\n",
      "\u001b[1;31mKeyError\u001b[0m: \"['filename'] not found in axis\""
     ]
    }
   ],
   "source": [
    "#Удалим столбец с именем\n",
    "df = df.drop('filename', axis=1)"
   ]
  },
  {
   "cell_type": "code",
   "execution_count": 13,
   "metadata": {},
   "outputs": [],
   "source": [
    "#Выведем столбцы не float64 и не int64\n",
    "for i in df.columns:\n",
    "    if df[i].dtype != 'float64' and df[i].dtype != 'int64':\n",
    "        print(i)\n",
    "        "
   ]
  },
  {
   "cell_type": "code",
   "execution_count": 14,
   "metadata": {},
   "outputs": [],
   "source": [
    "# Разделение данных на признаки и целевую переменную\n",
    "X = df.drop(columns=['mutation'])\n",
    "y = df['mutation']"
   ]
  },
  {
   "cell_type": "code",
   "execution_count": 149,
   "metadata": {},
   "outputs": [],
   "source": [
    "config = OmegaConf.load('config.yaml')"
   ]
  },
  {
   "cell_type": "code",
   "execution_count": 15,
   "metadata": {},
   "outputs": [
    {
     "name": "stderr",
     "output_type": "stream",
     "text": [
      "C:\\Users\\kungu\\AppData\\Local\\Temp\\ipykernel_2976\\4231542167.py:8: PerformanceWarning: DataFrame is highly fragmented.  This is usually the result of calling `frame.insert` many times, which has poor performance.  Consider joining all columns at once using pd.concat(axis=1) instead. To get a de-fragmented frame, use `newframe = frame.copy()`\n",
      "  df_sm['mutation'] = y_sm\n"
     ]
    }
   ],
   "source": [
    "from imblearn.over_sampling import SMOTE\n",
    "\n",
    "smote = SMOTE(sampling_strategy='minority', random_state=42)\n",
    "X_sm, y_sm = smote.fit_resample(X, y)\n",
    "\n",
    "#Сохраним датасет в файл\n",
    "df_sm = pd.DataFrame(X_sm)\n",
    "df_sm['mutation'] = y_sm"
   ]
  },
  {
   "cell_type": "code",
   "execution_count": 174,
   "metadata": {},
   "outputs": [],
   "source": [
    "def plot_3d_pca(X, color):\n",
    "    n_components = 3\n",
    "    pca = PCA(n_components=n_components)\n",
    "    principal_components = pca.fit_transform(X)\n",
    "    fig = go.Figure(data=[go.Scatter3d(\n",
    "    x=principal_components[:, 0],\n",
    "    y=principal_components[:, 1],\n",
    "    z=principal_components[:, 2],\n",
    "    mode='markers',\n",
    "    marker=dict(\n",
    "        size=5,\n",
    "        color=np.array(color),\n",
    "        colorscale='Viridis',\n",
    "        opacity=0.8\n",
    "        )\n",
    "    )])\n",
    "\n",
    "    fig.update_layout(\n",
    "        title='PCA on latent vectors',\n",
    "        scene=dict(\n",
    "            xaxis_title='PC1',\n",
    "            yaxis_title='PC2',\n",
    "            zaxis_title='PC3'\n",
    "        ),\n",
    "        width=800,\n",
    "        height=800\n",
    "    )\n",
    "    fig.show()\n",
    "\n",
    "def plot_2d_pca(X, color, labels=None):\n",
    "    n_components = 2\n",
    "    pca = PCA(n_components=n_components)\n",
    "    principal_components = pca.fit_transform(X)\n",
    "    \n",
    "    scatter = plt.scatter(principal_components[:, 0], principal_components[:, 1], c=np.array(color))\n",
    "\n",
    "    plt.title('PCA on radiomics features')\n",
    "    if labels is not None:\n",
    "        unique_labels = np.unique(labels)\n",
    "        handles = [plt.Line2D([0], [0], marker='o', color='w', markerfacecolor=scatter.cmap(scatter.norm(color[labels == label][0])), \n",
    "                            markersize=10, label=label) for label in unique_labels]\n",
    "        plt.legend(handles=handles, title='Groups')\n",
    "    \n",
    "    plt.show()"
   ]
  },
  {
   "cell_type": "markdown",
   "metadata": {},
   "source": [
    "# No modifications"
   ]
  },
  {
   "cell_type": "code",
   "execution_count": 17,
   "metadata": {},
   "outputs": [
    {
     "name": "stdout",
     "output_type": "stream",
     "text": [
      "Cross-validation score:\n",
      "Recall: 0.8307692307692308 Accuracy: 0.6398692810457516\n",
      "Predictions on over 700 data: [1 1 1 1 1 1 1 0 1 1 1 1 1 1 1 1 1 1 1 1 1 1 0 1 0 1 1 0 1 1 1 1 0 0 1 1 0\n",
      " 1 1 1 1 1 0 0 1 1] Accuracy 0.1956521739130435\n"
     ]
    }
   ],
   "source": [
    "X_train, X_test, y_train, y_test = train_test_split(X, y, test_size=0.4, random_state=42, stratify=y)\n",
    "\n",
    "clf = RandomForestClassifier(n_estimators=100, random_state=42)\n",
    "clf.fit(X_train, y_train)\n",
    "\n",
    "cv_scores_rec = cross_val_score(clf, X, y, cv=5, scoring='recall')\n",
    "cv_scores_acc = cross_val_score(clf, X, y, cv=5, scoring='accuracy')\n",
    "\n",
    "print(\"Cross-validation score:\")\n",
    "print('Recall:', np.mean(cv_scores_rec), 'Accuracy:', np.mean(cv_scores_acc))\n",
    "print('Predictions on over 700 data:', predictions := clf.predict(df_test), 'Accuracy', accuracy_score(predictions, np.zeros_like(predictions)))"
   ]
  },
  {
   "cell_type": "markdown",
   "metadata": {},
   "source": [
    "# With smote"
   ]
  },
  {
   "cell_type": "code",
   "execution_count": 18,
   "metadata": {},
   "outputs": [
    {
     "name": "stdout",
     "output_type": "stream",
     "text": [
      "Cross-validation score:\n",
      "Recall: 0.7076923076923076 Accuracy: 0.7307692307692307\n",
      "Predictions on over 700 data: [1 1 1 1 1 1 1 0 1 1 1 0 1 1 1 0 0 1 1 0 1 1 1 1 0 1 1 0 1 0 1 1 0 0 0 1 1\n",
      " 1 1 1 1 1 0 0 0 1] Accuracy 0.30434782608695654\n"
     ]
    }
   ],
   "source": [
    "from sklearn.ensemble import RandomForestClassifier\n",
    "from sklearn.model_selection import cross_val_score, train_test_split\n",
    "import numpy as np\n",
    "\n",
    "X_sm = df_sm.drop(columns=['mutation'])\n",
    "y_sm = df_sm['mutation']\n",
    "\n",
    "X_train, X_test, y_train, y_test = train_test_split(X_sm, y_sm, test_size=0.4, random_state=42, stratify=y_sm)\n",
    "\n",
    "clf = RandomForestClassifier(n_estimators=100, random_state=42)\n",
    "clf.fit(X_train, y_train)\n",
    "\n",
    "cv_scores_rec = cross_val_score(clf, X_sm, y_sm, cv=5, scoring='recall')\n",
    "cv_scores_acc = cross_val_score(clf, X_sm, y_sm, cv=5, scoring='accuracy')\n",
    "\n",
    "print(\"Cross-validation score:\")\n",
    "print('Recall:', np.mean(cv_scores_rec), 'Accuracy:', np.mean(cv_scores_acc))\n",
    "print('Predictions on over 700 data:', predictions := clf.predict(df_test), 'Accuracy', accuracy_score(predictions, np.zeros_like(predictions)))"
   ]
  },
  {
   "cell_type": "markdown",
   "metadata": {},
   "source": [
    "# FeatureSelection"
   ]
  },
  {
   "cell_type": "code",
   "execution_count": 19,
   "metadata": {},
   "outputs": [],
   "source": [
    "def select_by_p_value(excel_table: str, quantile=0.9):\n",
    "    feature_difference = pd.read_excel(excel_table)\n",
    "\n",
    "    p_ks_max = feature_difference['P_ks_test'].quantile(quantile)\n",
    "    p_mw_max = feature_difference['P_mw_test'].quantile(quantile)\n",
    "\n",
    "    drop_features_1 = feature_difference[feature_difference['P_ks_test'] > p_ks_max]['Факторы']\n",
    "    drop_features_2 = feature_difference[feature_difference['P_mw_test'] > p_mw_max]['Факторы']\n",
    "\n",
    "    drop_features = set(drop_features_1) | set(drop_features_2) # or &\n",
    "    print('Number dropped:', len(drop_features), p_ks_max, p_mw_max)\n",
    "    return drop_features"
   ]
  },
  {
   "cell_type": "markdown",
   "metadata": {},
   "source": [
    "### P-value"
   ]
  },
  {
   "cell_type": "code",
   "execution_count": 21,
   "metadata": {},
   "outputs": [
    {
     "name": "stdout",
     "output_type": "stream",
     "text": [
      "Number dropped: 103 0.028180000000000004 0.051375000000000004\n",
      "Cross-validation score:\n",
      "Recall: 0.8 Accuracy: 0.6065359477124184\n",
      "Predictions on over 700 data: [0 1 1 1 1 1 1 0 1 1 1 1 1 1 1 1 1 1 1 1 0 1 0 1 0 1 1 0 1 1 1 1 0 0 1 1 1\n",
      " 0 1 1 1 1 0 0 1 1] Accuracy 0.2391304347826087\n"
     ]
    }
   ],
   "source": [
    "p_value_drop = select_by_p_value(\"features_difference (12).xlsx\", quantile=0.05)\n",
    "X_selected = X.drop(p_value_drop, axis=1).copy()\n",
    "\n",
    "X_train, X_test, y_train, y_test = train_test_split(X_selected, y, test_size=0.4, random_state=42, stratify=y)\n",
    "\n",
    "clf = RandomForestClassifier(n_estimators=100, random_state=42)\n",
    "clf.fit(X_train, y_train)\n",
    "\n",
    "cv_scores_rec = cross_val_score(clf, X_selected, y, cv=5, scoring='recall')\n",
    "cv_scores_acc = cross_val_score(clf, X_selected, y, cv=5, scoring='accuracy')\n",
    "\n",
    "print(\"Cross-validation score:\")\n",
    "print('Recall:', np.mean(cv_scores_rec), 'Accuracy:', np.mean(cv_scores_acc))\n",
    "print('Predictions on over 700 data:', predictions := clf.predict(df_test.drop(p_value_drop, axis=1)), 'Accuracy', accuracy_score(predictions, np.zeros_like(predictions)))"
   ]
  },
  {
   "cell_type": "markdown",
   "metadata": {},
   "source": [
    "### KBest (sklearn)"
   ]
  },
  {
   "cell_type": "code",
   "execution_count": 22,
   "metadata": {},
   "outputs": [
    {
     "name": "stdout",
     "output_type": "stream",
     "text": [
      "Cross-validation score:\n",
      "Recall: 0.8461538461538461 Accuracy: 0.6287581699346405\n",
      "Predictions on over 700 data: [0 1 1 1 1 1 1 0 1 1 1 1 1 1 1 1 1 1 1 1 1 1 0 1 0 1 1 0 1 1 1 1 0 0 1 1 0\n",
      " 0 1 1 1 1 0 0 1 1] Accuracy 0.2391304347826087\n"
     ]
    }
   ],
   "source": [
    "k = 40  # Количество признаков для выбора\n",
    "selector = SelectKBest(k=k)\n",
    "X_new = selector.fit_transform(X, y)\n",
    "\n",
    "# Получение имен выбранных признаков\n",
    "selected_features = X.columns[selector.get_support()]\n",
    "X_new = pd.DataFrame(X_new, columns=selected_features)\n",
    "\n",
    "X_train, X_test, y_train, y_test = train_test_split(X_new, y, test_size=0.4, random_state=42, stratify=y)\n",
    "\n",
    "clf = RandomForestClassifier(n_estimators=100, random_state=42)\n",
    "clf.fit(X_train, y_train)\n",
    "\n",
    "cv_scores_rec = cross_val_score(clf, X_new, y, cv=5, scoring='recall')\n",
    "cv_scores_acc = cross_val_score(clf, X_new, y, cv=5, scoring='accuracy')\n",
    "\n",
    "print(\"Cross-validation score:\")\n",
    "print('Recall:', np.mean(cv_scores_rec), 'Accuracy:', np.mean(cv_scores_acc))\n",
    "print('Predictions on over 700 data:', predictions := clf.predict(df_test[selected_features]), 'Accuracy', accuracy_score(predictions, np.zeros_like(predictions)))"
   ]
  },
  {
   "cell_type": "markdown",
   "metadata": {},
   "source": [
    "# Random noise comparison"
   ]
  },
  {
   "cell_type": "code",
   "execution_count": 24,
   "metadata": {},
   "outputs": [],
   "source": [
    "def compare_with_random_noise(X, y):\n",
    "        n_samples = X.shape[0]\n",
    "        np.random.seed(21)\n",
    "        random_feature1 = np.random.exponential(1, n_samples)\n",
    "        random_feature2 = np.random.normal(5, 2, n_samples)\n",
    "        random_feature3 = np.random.normal(10, 10, n_samples)\n",
    "        \n",
    "        random_df = pd.DataFrame({\n",
    "            'random_feature1': random_feature1,\n",
    "            'random_feature2': random_feature2,\n",
    "            'random_feature3': random_feature3\n",
    "        })\n",
    "    \n",
    "        X_extended = X.join(random_df).copy()\n",
    "\n",
    "\n",
    "        rf = RandomForestClassifier(n_estimators=100, random_state=42, class_weight='balanced')\n",
    "        rf.fit(X_extended, y)\n",
    "        \n",
    "        importances = rf.feature_importances_\n",
    "        dummy_importance = max(importances[-3:])\n",
    "        \n",
    "        less_important_indices = np.where(importances[:-3] < dummy_importance)[0]\n",
    "        \n",
    "        less_important_features = np.array(X.columns)[less_important_indices]\n",
    "        \n",
    "        print(\"Features dropped:\", len(less_important_features))\n",
    "        return less_important_features"
   ]
  },
  {
   "cell_type": "code",
   "execution_count": 25,
   "metadata": {},
   "outputs": [
    {
     "name": "stdout",
     "output_type": "stream",
     "text": [
      "Features dropped: 92\n",
      "Cross-validation score:\n",
      "Recall: 0.8461538461538461 Accuracy: 0.6967320261437908\n",
      "Predictions on over 700 data: [0 1 1 1 1 1 0 1 1 1 1 1 1 1 1 1 1 1 1 1 1 1 0 1 0 1 1 0 1 0 1 1 0 0 1 1 1\n",
      " 0 1 1 1 1 0 0 1 1] Accuracy 0.2391304347826087\n"
     ]
    }
   ],
   "source": [
    "noise_compared = compare_with_random_noise(X, y)\n",
    "X_compared = X.drop(noise_compared, axis=1)\n",
    "\n",
    "X_train, X_test, y_train, y_test = train_test_split(X_compared, y, test_size=0.4, random_state=42, stratify=y)\n",
    "\n",
    "clf = RandomForestClassifier(n_estimators=100, random_state=42)\n",
    "clf.fit(X_train, y_train)\n",
    "\n",
    "cv_scores_rec = cross_val_score(clf, X_compared, y, cv=5, scoring='recall')\n",
    "cv_scores_acc = cross_val_score(clf, X_compared, y, cv=5, scoring='accuracy')\n",
    "\n",
    "print(\"Cross-validation score:\")\n",
    "print('Recall:', np.mean(cv_scores_rec), 'Accuracy:', np.mean(cv_scores_acc))\n",
    "print('Predictions on over 700 data:', predictions := clf.predict(df_test.drop(noise_compared, axis=1)), 'Accuracy', accuracy_score(predictions, np.zeros_like(predictions)))"
   ]
  },
  {
   "cell_type": "markdown",
   "metadata": {},
   "source": [
    "# P-value + Random Noise"
   ]
  },
  {
   "cell_type": "code",
   "execution_count": 26,
   "metadata": {},
   "outputs": [
    {
     "name": "stdout",
     "output_type": "stream",
     "text": [
      "Number dropped: 103 0.028180000000000004 0.051375000000000004\n",
      "Features dropped: 3\n",
      "Cross-validation score:\n",
      "Recall: 0.8307692307692308 Accuracy: 0.6738562091503268\n",
      "Predictions on over 700 data: [0 0 1 1 1 1 1 1 1 1 1 1 1 1 1 0 1 1 1 1 1 1 0 1 0 1 1 0 1 0 1 1 1 0 1 1 1\n",
      " 0 1 1 1 1 0 0 1 1] Accuracy 0.2391304347826087\n"
     ]
    }
   ],
   "source": [
    "p_value_drop = select_by_p_value(\"features_difference (12).xlsx\", quantile=0.05)\n",
    "X_selected = X.drop(p_value_drop, axis=1).copy()\n",
    "\n",
    "noise_compared = compare_with_random_noise(X_selected, y)\n",
    "X_compared_selected = X_selected.drop(noise_compared, axis=1)\n",
    "\n",
    "X_train, X_test, y_train, y_test = train_test_split(X_compared_selected, y, test_size=0.4, random_state=42, stratify=y)\n",
    "\n",
    "clf = RandomForestClassifier(n_estimators=100, random_state=42)\n",
    "clf.fit(X_train, y_train)\n",
    "\n",
    "cv_scores_rec = cross_val_score(clf, X_compared_selected, y, cv=5, scoring='recall')\n",
    "cv_scores_acc = cross_val_score(clf, X_compared_selected, y, cv=5, scoring='accuracy')\n",
    "\n",
    "print(\"Cross-validation score:\")\n",
    "print('Recall:', np.mean(cv_scores_rec), 'Accuracy:', np.mean(cv_scores_acc))\n",
    "print('Predictions on over 700 data:', predictions := clf.predict(df_test.drop(list(p_value_drop) + list(noise_compared), axis=1)), 'Accuracy', accuracy_score(predictions, np.zeros_like(predictions)))"
   ]
  },
  {
   "cell_type": "markdown",
   "metadata": {},
   "source": [
    "# H2O AutoML"
   ]
  },
  {
   "cell_type": "markdown",
   "metadata": {},
   "source": [
    "## Долго, не понятно как интерпретировать модели, которые он строит"
   ]
  },
  {
   "cell_type": "code",
   "execution_count": 22,
   "metadata": {},
   "outputs": [],
   "source": [
    "# import h2o\n",
    "# from h2o.automl import H2OAutoML"
   ]
  },
  {
   "cell_type": "code",
   "execution_count": 23,
   "metadata": {},
   "outputs": [],
   "source": [
    "# h2o.init()\n",
    "\n",
    "# h2o_X = h2o.H2OFrame(X)\n",
    "# h2o_y = h2o.H2OFrame(np.array(y))\n",
    "\n",
    "# h2o_y[h2o_y.columns[0]] = h2o_y[h2o_y.columns[0]].asfactor()\n",
    "\n",
    "# h2o_data = h2o_X.cbind(h2o_y)\n",
    "\n",
    "# train, test = h2o_data.split_frame(ratios=[0.6], seed=42)\n",
    "\n",
    "# feature_cols = h2o_X.columns\n",
    "# target_col = h2o_y.columns[0]\n",
    "\n",
    "# # Run AutoML\n",
    "# aml = H2OAutoML(max_runtime_secs=3600,\n",
    "#                 seed=42,\n",
    "#                 sort_metric='recall',\n",
    "#                 nfolds=5,  # 5 cross-validation\n",
    "#                 balance_classes=True,\n",
    "#                 max_models=20)\n",
    "\n",
    "# aml.train(x=feature_cols, y=target_col, training_frame=train)\n",
    "\n",
    "# lb = aml.leaderboard\n",
    "# print(lb.head(rows=lb.nrows))\n",
    "\n",
    "# best_model = aml.leader\n",
    "\n",
    "# performance = best_model.model_performance(test)\n",
    "\n",
    "# print(\"Test Set Metrics:\")\n",
    "# print(\"AUC:\", performance.auc())\n",
    "# print(\"Recall:\", performance.recall())\n",
    "# print(\"Accuracy:\", performance.accuracy())\n",
    "\n",
    "# print(performance)\n",
    "\n",
    "# # Shutdown H2O\n",
    "# h2o.shutdown()"
   ]
  },
  {
   "cell_type": "markdown",
   "metadata": {},
   "source": [
    "# Латентные представления"
   ]
  },
  {
   "cell_type": "code",
   "execution_count": 109,
   "metadata": {},
   "outputs": [],
   "source": [
    "df1 = pd.read_csv('csv_data/mutation_latents.csv', index_col='filename')\n",
    "df2 = pd.read_csv('csv_data/no_mutation_latents.csv', index_col='filename')\n",
    "\n",
    "#df1 = pd.read_csv('feature_vectors_mut.csv')\n",
    "#df2 = pd.read_csv('feature_vectors_nomut.csv')\n",
    "\n",
    "df1['mutation'] = 1\n",
    "df2['mutation'] = 0\n",
    "\n",
    "df_latents = pd.concat([df1, df2])"
   ]
  },
  {
   "cell_type": "code",
   "execution_count": 110,
   "metadata": {},
   "outputs": [],
   "source": [
    "df_latents = df_latents.reset_index().drop(['filename'], axis=1)"
   ]
  },
  {
   "cell_type": "code",
   "execution_count": 111,
   "metadata": {},
   "outputs": [],
   "source": [
    "def select_best_by_p_value(excel_table: str, pvalue=0.05):\n",
    "    feature_difference = pd.read_excel(excel_table)\n",
    "\n",
    "    drop_features_1 = feature_difference[feature_difference['P_ks_test'] > pvalue]['Факторы']\n",
    "    drop_features_2 = feature_difference[feature_difference['P_mw_test'] > pvalue]['Факторы']\n",
    "\n",
    "    drop_features = set(drop_features_1) & set(drop_features_2) # or &\n",
    "    print('Number dropped:', len(drop_features))\n",
    "    return drop_features"
   ]
  },
  {
   "cell_type": "code",
   "execution_count": 112,
   "metadata": {},
   "outputs": [],
   "source": [
    "# Разделение данных на признаки и целевую переменную\n",
    "X_latents = df_latents.drop(columns=['mutation'])\n",
    "y_latents = df_latents['mutation']"
   ]
  },
  {
   "cell_type": "markdown",
   "metadata": {},
   "source": [
    "# Латентные + оригинальные"
   ]
  },
  {
   "cell_type": "code",
   "execution_count": 113,
   "metadata": {},
   "outputs": [],
   "source": [
    "X_latents_700 = pd.read_csv('csv_data/unknown_700_latents.csv', index_col='filename')\n",
    "X_latents_700 = X_latents_700.reset_index().drop(['filename'], axis=1)\n",
    "\n",
    "X_latents_300 = pd.read_csv('csv_data/unknown_300_latents.csv', index_col='filename')\n",
    "X_latents_300 = X_latents_300.reset_index().drop(['filename'], axis=1)"
   ]
  },
  {
   "cell_type": "code",
   "execution_count": 114,
   "metadata": {},
   "outputs": [
    {
     "name": "stdout",
     "output_type": "stream",
     "text": [
      "Cross-validation score:\n",
      "Recall: 0.9384615384615385 Accuracy: 0.7875816993464053\n",
      "Predictions on over 700 data: [1 0 1 1 1 1 1 1 0 1 1 1 1 0 1 0 1 0 1 1 1 0 0 0 0 1 1 1 1 1 1 1 0 0 0 1 1\n",
      " 1 1 1 1 1 0 1 1 1] Accuracy 0.2826086956521739\n"
     ]
    }
   ],
   "source": [
    "X_selected_with_features = pd.concat([X_latents, X.reset_index()], axis=1).drop(['index'], axis=1)\n",
    "X_train, X_test, y_train, y_test = train_test_split(X_selected_with_features, y, test_size=0.4, random_state=42, stratify=y)\n",
    "\n",
    "clf = RandomForestClassifier(random_state=42)\n",
    "clf.fit(X_train, y_train)\n",
    "\n",
    "cv_scores_rec = cross_val_score(clf, X_selected_with_features, y, cv=5, scoring='recall')\n",
    "cv_scores_acc = cross_val_score(clf, X_selected_with_features, y, cv=5, scoring='accuracy')\n",
    "\n",
    "print(\"Cross-validation score:\")\n",
    "print('Recall:', np.mean(cv_scores_rec), 'Accuracy:', np.mean(cv_scores_acc))\n",
    "print('Predictions on over 700 data:', predictions := clf.predict(pd.concat([X_latents_700, df_test.reset_index()], axis=1).drop(['index'], axis=1)), 'Accuracy', accuracy_score(predictions, np.zeros_like(predictions)))"
   ]
  },
  {
   "cell_type": "markdown",
   "metadata": {},
   "source": [
    "# Only latents"
   ]
  },
  {
   "cell_type": "code",
   "execution_count": 115,
   "metadata": {},
   "outputs": [
    {
     "name": "stdout",
     "output_type": "stream",
     "text": [
      "Cross-validation score:\n",
      "Recall: 0.8615384615384615 Accuracy: 0.7300653594771243\n",
      "Predictions on over 700 data: [1 0 1 1 1 1 1 1 0 1 1 0 1 0 1 0 1 1 1 1 1 0 0 1 0 1 1 1 1 1 0 1 0 0 1 1 1\n",
      " 0 1 1 1 1 1 1 1 1] Accuracy 0.2608695652173913\n"
     ]
    }
   ],
   "source": [
    "X_train, X_test, y_train, y_test = train_test_split(X_latents, y_latents, test_size=0.4, random_state=42, stratify=y_latents)\n",
    "\n",
    "cv_scores_rec = cross_val_score(clf, X_latents, y_latents, cv=5, scoring='recall')\n",
    "cv_scores_acc = cross_val_score(clf, X_latents, y_latents, cv=5, scoring='accuracy')\n",
    "\n",
    "clf = RandomForestClassifier(random_state=42)\n",
    "clf.fit(X_train, y_train)\n",
    "\n",
    "print(\"Cross-validation score:\")\n",
    "print('Recall:', np.mean(cv_scores_rec), 'Accuracy:', np.mean(cv_scores_acc))\n",
    "print('Predictions on over 700 data:', predictions := clf.predict(X_latents_700), 'Accuracy', accuracy_score(predictions, np.zeros_like(predictions)))"
   ]
  },
  {
   "cell_type": "markdown",
   "metadata": {},
   "source": [
    "# PCA analys"
   ]
  },
  {
   "cell_type": "markdown",
   "metadata": {},
   "source": [
    "### 3D analysis, train/val data"
   ]
  },
  {
   "cell_type": "code",
   "execution_count": 116,
   "metadata": {},
   "outputs": [
    {
     "data": {
      "application/vnd.plotly.v1+json": {
       "config": {
        "plotlyServerURL": "https://plot.ly"
       },
       "data": [
        {
         "marker": {
          "color": [
           1,
           1,
           1,
           1,
           1,
           1,
           1,
           1,
           1,
           1,
           1,
           1,
           1,
           1,
           1,
           1,
           1,
           1,
           1,
           1,
           1,
           1,
           1,
           1,
           1,
           1,
           1,
           1,
           1,
           1,
           1,
           1,
           1,
           1,
           1,
           1,
           1,
           1,
           1,
           1,
           1,
           1,
           1,
           1,
           1,
           1,
           1,
           1,
           1,
           1,
           1,
           1,
           1,
           1,
           1,
           1,
           1,
           1,
           1,
           1,
           1,
           1,
           1,
           1,
           1,
           0,
           0,
           0,
           0,
           0,
           0,
           0,
           0,
           0,
           0,
           0,
           0,
           0,
           0,
           0,
           0,
           0,
           0,
           0,
           0,
           0,
           0,
           0,
           0
          ],
          "colorscale": [
           [
            0,
            "#440154"
           ],
           [
            0.1111111111111111,
            "#482878"
           ],
           [
            0.2222222222222222,
            "#3e4989"
           ],
           [
            0.3333333333333333,
            "#31688e"
           ],
           [
            0.4444444444444444,
            "#26828e"
           ],
           [
            0.5555555555555556,
            "#1f9e89"
           ],
           [
            0.6666666666666666,
            "#35b779"
           ],
           [
            0.7777777777777778,
            "#6ece58"
           ],
           [
            0.8888888888888888,
            "#b5de2b"
           ],
           [
            1,
            "#fde725"
           ]
          ],
          "opacity": 0.8,
          "size": 5
         },
         "mode": "markers",
         "type": "scatter3d",
         "x": [
          -0.11100238145907713,
          -0.32391884000599946,
          -0.36063382034940517,
          -0.20826405858821634,
          -0.3093857541479658,
          0.2032870204165776,
          -0.2669088697485479,
          -0.23143462303268392,
          0.005641154723590461,
          -0.34825410465620016,
          0.1887651122296787,
          -0.5252844359864173,
          -0.4133951091970534,
          -0.3754466520622478,
          -0.29135370671645366,
          -0.39087257646389306,
          -0.23654237447776488,
          -0.4077985578507725,
          -0.3099825341366552,
          -0.47428408579584524,
          -0.3261545243581795,
          -0.5295839479307803,
          -0.23979458455314967,
          0.9166487558947538,
          -0.29836055264793965,
          -0.44652750996489043,
          0.3129409204698798,
          -0.3570108561404825,
          -0.1928649446013385,
          -0.30647615593211647,
          -0.3813986450092903,
          -0.3936102463850081,
          -0.25508401518772444,
          -0.31720456998199537,
          -0.42481680514082915,
          -0.13083385506572745,
          -0.18336611120250615,
          0.2562269993278354,
          -0.42579827422695987,
          -0.3598955972433139,
          -0.16858390517213462,
          -0.44396384624976193,
          -0.060826977035387746,
          -0.35060311438784497,
          -0.25156222301736464,
          0.07274776627143553,
          -0.34213466464391307,
          -0.143793156771383,
          -0.3289853134952144,
          -0.09674340704557159,
          0.2220115906205926,
          -0.33388011927619676,
          -0.007517203677517697,
          -0.5230414946724223,
          -0.43623455715283954,
          -0.40131207003983066,
          -0.41102788882458463,
          -0.29396844508963305,
          -0.25798628191528544,
          -0.3551924373920473,
          -0.5773451214865175,
          0.4040527029237293,
          -0.4137318781549797,
          -0.064626533558319,
          -0.47480684896525027,
          0.13405931565636364,
          -0.16038138330073257,
          1.748397434731821,
          -0.39266685432160087,
          -0.3398541500625186,
          -0.24825387596438986,
          2.27491402215729,
          0.08983136147515747,
          1.9857856903293285,
          0.9895541911994519,
          1.7141327423917148,
          -0.5144814477538082,
          -0.031540270255566875,
          0.26436951309018325,
          -0.36839516272766665,
          4.198012877797559,
          -0.5228395511171332,
          -0.42619266721812793,
          0.1140173176017625,
          -0.2859680684342006,
          1.4635572494596036,
          2.179269715365908,
          1.7150168290700902,
          -0.27125568377713544
         ],
         "y": [
          -0.1493870601478464,
          -0.027031597913008767,
          -0.01870574198410386,
          0.08449766750569564,
          8.433524695676595e-7,
          -0.2730894786217308,
          -0.1335950198584397,
          -0.09095475702941778,
          -0.14368843744566004,
          0.02990058821438434,
          -0.3159562315309393,
          0.4499577168668433,
          0.07706679701651138,
          0.04109678908107168,
          -0.0764769283510408,
          0.28683816348745256,
          -0.10398423687902043,
          0.10047827697502788,
          -0.059935153042208276,
          0.2446400549563373,
          -0.03009570547477825,
          0.5140057541418992,
          -0.11174331003804577,
          -0.2792549619700073,
          -0.05126847434849041,
          0.18948395540276727,
          -0.3290145561681487,
          0.02179994713513289,
          -0.04760433513850824,
          -0.010807248471104522,
          0.059436030681357256,
          0.0347882027603993,
          -0.09772361299571246,
          0.04501175785898052,
          0.13782299026084113,
          -0.19943046922525415,
          -0.0797409697229407,
          -0.3304672189572231,
          0.1889174325461702,
          0.17078339182647814,
          -0.17089589283068088,
          0.17735778634220695,
          -0.2252224929032721,
          0.00565532720547044,
          -0.07081744517097772,
          -0.15260461366779474,
          -0.014511672889802365,
          -0.10685492211905892,
          -0.05189272915170933,
          0.13227329908562474,
          -0.19709022035044882,
          -0.04292310821030676,
          -0.1723125182120719,
          0.41554374131201155,
          0.17445319941617313,
          0.1501079317792107,
          0.09011269423696344,
          -0.07390062628327032,
          -0.06380983698775766,
          -0.014486787443432026,
          0.6059147220982329,
          -0.296896529925483,
          0.0987260648986888,
          -0.20631703301037493,
          0.24330174553284412,
          -0.18764137896434852,
          -0.08861245954437434,
          -0.03953650302394746,
          0.03781373652226166,
          -0.020499267565848658,
          -0.06233859964583229,
          0.08927844400968084,
          -0.13160198071429038,
          0.04664116505373391,
          -0.24672672123084863,
          -0.06864565993866978,
          0.411769835264229,
          -0.150592692674678,
          -0.35967976693955606,
          0.03495646376359384,
          0.7238839539599484,
          0.4106281368655511,
          0.13382602664531518,
          -0.30944084099587454,
          -0.14158234259020158,
          0.007132823450990784,
          0.13473624541975182,
          -0.09613680095401494,
          -0.07711275367974549
         ],
         "z": [
          -0.035095282436588326,
          -0.0479784812028059,
          -0.029568196972504804,
          0.060516344888803836,
          0.01838488499846938,
          0.023730901094786604,
          0.016606418522743412,
          -0.007124815221110731,
          -0.015416436496072113,
          0.015345128093540905,
          0.03385899062997442,
          0.05589041235720278,
          -0.05757027380471728,
          -0.03498668442426409,
          0.003084967143669198,
          0.13438775229232156,
          -0.0017941347036358446,
          -0.03200749380644997,
          -0.021679641082522516,
          -0.0429177745585862,
          -0.057034479212194955,
          0.10218237307738691,
          -0.02948050983634526,
          0.08860199878024111,
          -0.027423777313255307,
          -0.01226513082739298,
          0.017280185332123253,
          -0.011027060268109007,
          -0.06101693195753082,
          0.029992362903844008,
          0.01937024068722803,
          -0.061065863831088,
          -0.02913444643707351,
          0.061873833589421355,
          -0.027550644526525246,
          0.045266586681013625,
          -0.053795105954525184,
          -0.005480676176814269,
          0.005353207258600194,
          0.09304508288101132,
          -0.023656467298864746,
          -0.028416262180270324,
          0.03072141172704913,
          -0.06639057629143316,
          -0.05435060035958579,
          0.012393923711274594,
          -0.029387761186001796,
          -0.036176697534409004,
          -0.04741653295713834,
          0.08914482827624695,
          0.003358965641524667,
          -0.002520558422238074,
          -0.03335130691140891,
          0.012360556600074159,
          -0.006156951724115814,
          0.0640651311507151,
          -0.02760547004885724,
          -0.0009014873281275977,
          -0.05340377333664885,
          -0.01432917976245541,
          0.06724096187742502,
          0.015693450020520194,
          -0.04154300298920668,
          0.0907867657160946,
          -0.03884377647123111,
          -0.03935630650178953,
          -0.04653636860358082,
          -0.008925910648802517,
          -0.07184255885409835,
          -0.006611584861762384,
          -0.04426980355067818,
          0.010597265857074713,
          0.04817614934853253,
          -0.019567608219426463,
          0.10988871784615369,
          0.01474513393288478,
          0.03820203483408188,
          0.09341577414479052,
          0.12110912601622464,
          -0.004191963936786404,
          -0.07146729658717918,
          0.007351633851926246,
          -0.039739360411637094,
          0.0065899762911195885,
          -0.030398739133951386,
          -0.03179426545302023,
          -0.032034762177706226,
          0.04196183041494009,
          -0.04997453367851038
         ]
        }
       ],
       "layout": {
        "height": 800,
        "scene": {
         "xaxis": {
          "title": {
           "text": "PC1"
          }
         },
         "yaxis": {
          "title": {
           "text": "PC2"
          }
         },
         "zaxis": {
          "title": {
           "text": "PC3"
          }
         }
        },
        "template": {
         "data": {
          "bar": [
           {
            "error_x": {
             "color": "#2a3f5f"
            },
            "error_y": {
             "color": "#2a3f5f"
            },
            "marker": {
             "line": {
              "color": "#E5ECF6",
              "width": 0.5
             },
             "pattern": {
              "fillmode": "overlay",
              "size": 10,
              "solidity": 0.2
             }
            },
            "type": "bar"
           }
          ],
          "barpolar": [
           {
            "marker": {
             "line": {
              "color": "#E5ECF6",
              "width": 0.5
             },
             "pattern": {
              "fillmode": "overlay",
              "size": 10,
              "solidity": 0.2
             }
            },
            "type": "barpolar"
           }
          ],
          "carpet": [
           {
            "aaxis": {
             "endlinecolor": "#2a3f5f",
             "gridcolor": "white",
             "linecolor": "white",
             "minorgridcolor": "white",
             "startlinecolor": "#2a3f5f"
            },
            "baxis": {
             "endlinecolor": "#2a3f5f",
             "gridcolor": "white",
             "linecolor": "white",
             "minorgridcolor": "white",
             "startlinecolor": "#2a3f5f"
            },
            "type": "carpet"
           }
          ],
          "choropleth": [
           {
            "colorbar": {
             "outlinewidth": 0,
             "ticks": ""
            },
            "type": "choropleth"
           }
          ],
          "contour": [
           {
            "colorbar": {
             "outlinewidth": 0,
             "ticks": ""
            },
            "colorscale": [
             [
              0,
              "#0d0887"
             ],
             [
              0.1111111111111111,
              "#46039f"
             ],
             [
              0.2222222222222222,
              "#7201a8"
             ],
             [
              0.3333333333333333,
              "#9c179e"
             ],
             [
              0.4444444444444444,
              "#bd3786"
             ],
             [
              0.5555555555555556,
              "#d8576b"
             ],
             [
              0.6666666666666666,
              "#ed7953"
             ],
             [
              0.7777777777777778,
              "#fb9f3a"
             ],
             [
              0.8888888888888888,
              "#fdca26"
             ],
             [
              1,
              "#f0f921"
             ]
            ],
            "type": "contour"
           }
          ],
          "contourcarpet": [
           {
            "colorbar": {
             "outlinewidth": 0,
             "ticks": ""
            },
            "type": "contourcarpet"
           }
          ],
          "heatmap": [
           {
            "colorbar": {
             "outlinewidth": 0,
             "ticks": ""
            },
            "colorscale": [
             [
              0,
              "#0d0887"
             ],
             [
              0.1111111111111111,
              "#46039f"
             ],
             [
              0.2222222222222222,
              "#7201a8"
             ],
             [
              0.3333333333333333,
              "#9c179e"
             ],
             [
              0.4444444444444444,
              "#bd3786"
             ],
             [
              0.5555555555555556,
              "#d8576b"
             ],
             [
              0.6666666666666666,
              "#ed7953"
             ],
             [
              0.7777777777777778,
              "#fb9f3a"
             ],
             [
              0.8888888888888888,
              "#fdca26"
             ],
             [
              1,
              "#f0f921"
             ]
            ],
            "type": "heatmap"
           }
          ],
          "heatmapgl": [
           {
            "colorbar": {
             "outlinewidth": 0,
             "ticks": ""
            },
            "colorscale": [
             [
              0,
              "#0d0887"
             ],
             [
              0.1111111111111111,
              "#46039f"
             ],
             [
              0.2222222222222222,
              "#7201a8"
             ],
             [
              0.3333333333333333,
              "#9c179e"
             ],
             [
              0.4444444444444444,
              "#bd3786"
             ],
             [
              0.5555555555555556,
              "#d8576b"
             ],
             [
              0.6666666666666666,
              "#ed7953"
             ],
             [
              0.7777777777777778,
              "#fb9f3a"
             ],
             [
              0.8888888888888888,
              "#fdca26"
             ],
             [
              1,
              "#f0f921"
             ]
            ],
            "type": "heatmapgl"
           }
          ],
          "histogram": [
           {
            "marker": {
             "pattern": {
              "fillmode": "overlay",
              "size": 10,
              "solidity": 0.2
             }
            },
            "type": "histogram"
           }
          ],
          "histogram2d": [
           {
            "colorbar": {
             "outlinewidth": 0,
             "ticks": ""
            },
            "colorscale": [
             [
              0,
              "#0d0887"
             ],
             [
              0.1111111111111111,
              "#46039f"
             ],
             [
              0.2222222222222222,
              "#7201a8"
             ],
             [
              0.3333333333333333,
              "#9c179e"
             ],
             [
              0.4444444444444444,
              "#bd3786"
             ],
             [
              0.5555555555555556,
              "#d8576b"
             ],
             [
              0.6666666666666666,
              "#ed7953"
             ],
             [
              0.7777777777777778,
              "#fb9f3a"
             ],
             [
              0.8888888888888888,
              "#fdca26"
             ],
             [
              1,
              "#f0f921"
             ]
            ],
            "type": "histogram2d"
           }
          ],
          "histogram2dcontour": [
           {
            "colorbar": {
             "outlinewidth": 0,
             "ticks": ""
            },
            "colorscale": [
             [
              0,
              "#0d0887"
             ],
             [
              0.1111111111111111,
              "#46039f"
             ],
             [
              0.2222222222222222,
              "#7201a8"
             ],
             [
              0.3333333333333333,
              "#9c179e"
             ],
             [
              0.4444444444444444,
              "#bd3786"
             ],
             [
              0.5555555555555556,
              "#d8576b"
             ],
             [
              0.6666666666666666,
              "#ed7953"
             ],
             [
              0.7777777777777778,
              "#fb9f3a"
             ],
             [
              0.8888888888888888,
              "#fdca26"
             ],
             [
              1,
              "#f0f921"
             ]
            ],
            "type": "histogram2dcontour"
           }
          ],
          "mesh3d": [
           {
            "colorbar": {
             "outlinewidth": 0,
             "ticks": ""
            },
            "type": "mesh3d"
           }
          ],
          "parcoords": [
           {
            "line": {
             "colorbar": {
              "outlinewidth": 0,
              "ticks": ""
             }
            },
            "type": "parcoords"
           }
          ],
          "pie": [
           {
            "automargin": true,
            "type": "pie"
           }
          ],
          "scatter": [
           {
            "fillpattern": {
             "fillmode": "overlay",
             "size": 10,
             "solidity": 0.2
            },
            "type": "scatter"
           }
          ],
          "scatter3d": [
           {
            "line": {
             "colorbar": {
              "outlinewidth": 0,
              "ticks": ""
             }
            },
            "marker": {
             "colorbar": {
              "outlinewidth": 0,
              "ticks": ""
             }
            },
            "type": "scatter3d"
           }
          ],
          "scattercarpet": [
           {
            "marker": {
             "colorbar": {
              "outlinewidth": 0,
              "ticks": ""
             }
            },
            "type": "scattercarpet"
           }
          ],
          "scattergeo": [
           {
            "marker": {
             "colorbar": {
              "outlinewidth": 0,
              "ticks": ""
             }
            },
            "type": "scattergeo"
           }
          ],
          "scattergl": [
           {
            "marker": {
             "colorbar": {
              "outlinewidth": 0,
              "ticks": ""
             }
            },
            "type": "scattergl"
           }
          ],
          "scattermapbox": [
           {
            "marker": {
             "colorbar": {
              "outlinewidth": 0,
              "ticks": ""
             }
            },
            "type": "scattermapbox"
           }
          ],
          "scatterpolar": [
           {
            "marker": {
             "colorbar": {
              "outlinewidth": 0,
              "ticks": ""
             }
            },
            "type": "scatterpolar"
           }
          ],
          "scatterpolargl": [
           {
            "marker": {
             "colorbar": {
              "outlinewidth": 0,
              "ticks": ""
             }
            },
            "type": "scatterpolargl"
           }
          ],
          "scatterternary": [
           {
            "marker": {
             "colorbar": {
              "outlinewidth": 0,
              "ticks": ""
             }
            },
            "type": "scatterternary"
           }
          ],
          "surface": [
           {
            "colorbar": {
             "outlinewidth": 0,
             "ticks": ""
            },
            "colorscale": [
             [
              0,
              "#0d0887"
             ],
             [
              0.1111111111111111,
              "#46039f"
             ],
             [
              0.2222222222222222,
              "#7201a8"
             ],
             [
              0.3333333333333333,
              "#9c179e"
             ],
             [
              0.4444444444444444,
              "#bd3786"
             ],
             [
              0.5555555555555556,
              "#d8576b"
             ],
             [
              0.6666666666666666,
              "#ed7953"
             ],
             [
              0.7777777777777778,
              "#fb9f3a"
             ],
             [
              0.8888888888888888,
              "#fdca26"
             ],
             [
              1,
              "#f0f921"
             ]
            ],
            "type": "surface"
           }
          ],
          "table": [
           {
            "cells": {
             "fill": {
              "color": "#EBF0F8"
             },
             "line": {
              "color": "white"
             }
            },
            "header": {
             "fill": {
              "color": "#C8D4E3"
             },
             "line": {
              "color": "white"
             }
            },
            "type": "table"
           }
          ]
         },
         "layout": {
          "annotationdefaults": {
           "arrowcolor": "#2a3f5f",
           "arrowhead": 0,
           "arrowwidth": 1
          },
          "autotypenumbers": "strict",
          "coloraxis": {
           "colorbar": {
            "outlinewidth": 0,
            "ticks": ""
           }
          },
          "colorscale": {
           "diverging": [
            [
             0,
             "#8e0152"
            ],
            [
             0.1,
             "#c51b7d"
            ],
            [
             0.2,
             "#de77ae"
            ],
            [
             0.3,
             "#f1b6da"
            ],
            [
             0.4,
             "#fde0ef"
            ],
            [
             0.5,
             "#f7f7f7"
            ],
            [
             0.6,
             "#e6f5d0"
            ],
            [
             0.7,
             "#b8e186"
            ],
            [
             0.8,
             "#7fbc41"
            ],
            [
             0.9,
             "#4d9221"
            ],
            [
             1,
             "#276419"
            ]
           ],
           "sequential": [
            [
             0,
             "#0d0887"
            ],
            [
             0.1111111111111111,
             "#46039f"
            ],
            [
             0.2222222222222222,
             "#7201a8"
            ],
            [
             0.3333333333333333,
             "#9c179e"
            ],
            [
             0.4444444444444444,
             "#bd3786"
            ],
            [
             0.5555555555555556,
             "#d8576b"
            ],
            [
             0.6666666666666666,
             "#ed7953"
            ],
            [
             0.7777777777777778,
             "#fb9f3a"
            ],
            [
             0.8888888888888888,
             "#fdca26"
            ],
            [
             1,
             "#f0f921"
            ]
           ],
           "sequentialminus": [
            [
             0,
             "#0d0887"
            ],
            [
             0.1111111111111111,
             "#46039f"
            ],
            [
             0.2222222222222222,
             "#7201a8"
            ],
            [
             0.3333333333333333,
             "#9c179e"
            ],
            [
             0.4444444444444444,
             "#bd3786"
            ],
            [
             0.5555555555555556,
             "#d8576b"
            ],
            [
             0.6666666666666666,
             "#ed7953"
            ],
            [
             0.7777777777777778,
             "#fb9f3a"
            ],
            [
             0.8888888888888888,
             "#fdca26"
            ],
            [
             1,
             "#f0f921"
            ]
           ]
          },
          "colorway": [
           "#636efa",
           "#EF553B",
           "#00cc96",
           "#ab63fa",
           "#FFA15A",
           "#19d3f3",
           "#FF6692",
           "#B6E880",
           "#FF97FF",
           "#FECB52"
          ],
          "font": {
           "color": "#2a3f5f"
          },
          "geo": {
           "bgcolor": "white",
           "lakecolor": "white",
           "landcolor": "#E5ECF6",
           "showlakes": true,
           "showland": true,
           "subunitcolor": "white"
          },
          "hoverlabel": {
           "align": "left"
          },
          "hovermode": "closest",
          "mapbox": {
           "style": "light"
          },
          "paper_bgcolor": "white",
          "plot_bgcolor": "#E5ECF6",
          "polar": {
           "angularaxis": {
            "gridcolor": "white",
            "linecolor": "white",
            "ticks": ""
           },
           "bgcolor": "#E5ECF6",
           "radialaxis": {
            "gridcolor": "white",
            "linecolor": "white",
            "ticks": ""
           }
          },
          "scene": {
           "xaxis": {
            "backgroundcolor": "#E5ECF6",
            "gridcolor": "white",
            "gridwidth": 2,
            "linecolor": "white",
            "showbackground": true,
            "ticks": "",
            "zerolinecolor": "white"
           },
           "yaxis": {
            "backgroundcolor": "#E5ECF6",
            "gridcolor": "white",
            "gridwidth": 2,
            "linecolor": "white",
            "showbackground": true,
            "ticks": "",
            "zerolinecolor": "white"
           },
           "zaxis": {
            "backgroundcolor": "#E5ECF6",
            "gridcolor": "white",
            "gridwidth": 2,
            "linecolor": "white",
            "showbackground": true,
            "ticks": "",
            "zerolinecolor": "white"
           }
          },
          "shapedefaults": {
           "line": {
            "color": "#2a3f5f"
           }
          },
          "ternary": {
           "aaxis": {
            "gridcolor": "white",
            "linecolor": "white",
            "ticks": ""
           },
           "baxis": {
            "gridcolor": "white",
            "linecolor": "white",
            "ticks": ""
           },
           "bgcolor": "#E5ECF6",
           "caxis": {
            "gridcolor": "white",
            "linecolor": "white",
            "ticks": ""
           }
          },
          "title": {
           "x": 0.05
          },
          "xaxis": {
           "automargin": true,
           "gridcolor": "white",
           "linecolor": "white",
           "ticks": "",
           "title": {
            "standoff": 15
           },
           "zerolinecolor": "white",
           "zerolinewidth": 2
          },
          "yaxis": {
           "automargin": true,
           "gridcolor": "white",
           "linecolor": "white",
           "ticks": "",
           "title": {
            "standoff": 15
           },
           "zerolinecolor": "white",
           "zerolinewidth": 2
          }
         }
        },
        "title": {
         "text": "3D Scatter Plot of Principal Components"
        },
        "width": 800
       }
      }
     },
     "metadata": {},
     "output_type": "display_data"
    }
   ],
   "source": [
    "plot_3d_pca(X_latents, y_latents)"
   ]
  },
  {
   "cell_type": "markdown",
   "metadata": {},
   "source": [
    "# 3D 700 and 300 data"
   ]
  },
  {
   "cell_type": "code",
   "execution_count": 130,
   "metadata": {},
   "outputs": [],
   "source": [
    "X_latents_700_1 = X_latents_700.copy()\n",
    "X_latents_700_1['label'] = 0\n",
    "X_latents_700_1['group'] = '>700'\n",
    "\n",
    "X_latents_300_1 = X_latents_300.copy()\n",
    "X_latents_300_1['label'] = 1\n",
    "X_latents_300_1['group'] = '<300'\n",
    "\n",
    "X_latents_700_300 = pd.concat((X_latents_700_1, X_latents_300_1), axis=0)\n",
    "color = X_latents_700_300['label']\n",
    "labels = X_latents_700_300['group']\n",
    "X_latents_700_300.drop(['label', 'group'], axis=1, inplace=True)"
   ]
  },
  {
   "cell_type": "code",
   "execution_count": 131,
   "metadata": {},
   "outputs": [
    {
     "data": {
      "application/vnd.plotly.v1+json": {
       "config": {
        "plotlyServerURL": "https://plot.ly"
       },
       "data": [
        {
         "marker": {
          "color": [
           0,
           0,
           0,
           0,
           0,
           0,
           0,
           0,
           0,
           0,
           0,
           0,
           0,
           0,
           0,
           0,
           0,
           0,
           0,
           0,
           0,
           0,
           0,
           0,
           0,
           0,
           0,
           0,
           0,
           0,
           0,
           0,
           0,
           0,
           0,
           0,
           0,
           0,
           0,
           0,
           0,
           0,
           0,
           0,
           0,
           0,
           1,
           1,
           1,
           1,
           1,
           1,
           1,
           1,
           1,
           1,
           1,
           1,
           1,
           1,
           1,
           1,
           1,
           1,
           1,
           1,
           1,
           1,
           1,
           1,
           1,
           1,
           1,
           1,
           1,
           1,
           1,
           1,
           1,
           1,
           1,
           1,
           1,
           1,
           1,
           1,
           1,
           1,
           1,
           1,
           1,
           1,
           1,
           1,
           1,
           1,
           1,
           1,
           1,
           1,
           1,
           1
          ],
          "colorscale": [
           [
            0,
            "#440154"
           ],
           [
            0.1111111111111111,
            "#482878"
           ],
           [
            0.2222222222222222,
            "#3e4989"
           ],
           [
            0.3333333333333333,
            "#31688e"
           ],
           [
            0.4444444444444444,
            "#26828e"
           ],
           [
            0.5555555555555556,
            "#1f9e89"
           ],
           [
            0.6666666666666666,
            "#35b779"
           ],
           [
            0.7777777777777778,
            "#6ece58"
           ],
           [
            0.8888888888888888,
            "#b5de2b"
           ],
           [
            1,
            "#fde725"
           ]
          ],
          "opacity": 0.8,
          "size": 5
         },
         "mode": "markers",
         "type": "scatter3d",
         "x": [
          0.1542541617948957,
          0.3944474756658556,
          0.6884976935570215,
          0.4817346807171644,
          -0.11635642063937797,
          0.09880322622570054,
          0.262230902339811,
          -0.2083945934733489,
          0.5237185530605032,
          -0.05403867491194763,
          -0.07511396436556424,
          0.20266890208176813,
          -0.09812009879079857,
          0.9844066907566038,
          -0.409999901986631,
          0.8970831716107575,
          -0.129331515779897,
          0.5507046478573574,
          -0.30714190575081923,
          0.01356059758610839,
          0.0171452518745893,
          0.438096344674576,
          1.2059047965809153,
          0.5260244492651707,
          0.9438257277912737,
          -0.32242245433608774,
          -0.4281281776153777,
          0.11770759335074558,
          0.12643826463909982,
          -0.2031705014591041,
          -0.2809607787242182,
          -0.3989649343006451,
          0.383351107030705,
          0.8041184861687339,
          0.7481149952008774,
          -0.44813529054861434,
          0.0627197123395038,
          0.22439817578253882,
          -0.45713821626768647,
          -0.13320192143173445,
          -0.3645256067068225,
          0.30560884293394236,
          0.3386565140355347,
          -0.3413229315285888,
          -0.2669267834539503,
          -0.37636086337542185,
          -0.23955219113440082,
          -0.3546291750351578,
          -0.39240705397804043,
          -0.4589277165923484,
          -0.5022340784773068,
          -0.3272755411929773,
          1.3551971223329702,
          -0.35119768748802427,
          0.011521739693321447,
          0.12881997371432077,
          -0.33939614418953723,
          -0.2631964897779834,
          -0.34986558500434767,
          0.22364805657115938,
          0.38436141191926865,
          -0.14687517398052302,
          -0.41272357607231613,
          -0.23021447388928926,
          -0.5862234625763616,
          -0.38453918767682094,
          -0.3963757591819229,
          -0.23871739119688726,
          -0.27980630063202383,
          -0.43415815378215494,
          0.04647323840186192,
          -0.3039248819324769,
          0.10351559900309626,
          -0.20206634733810444,
          -0.5334718770190521,
          0.5619354894227806,
          -0.3873637901082003,
          -0.19474172923963873,
          -0.24218634574496165,
          0.3199739482052303,
          -0.10311704648909548,
          -0.26915705492858016,
          -0.3032463401244473,
          -0.2939203788911975,
          1.0636084670300738,
          -0.40378823048921747,
          -0.34370827498876383,
          -0.22820262149905968,
          0.7609547898616116,
          0.2532762947105445,
          -0.3570184037117408,
          -0.2721059453213355,
          -0.23672400019070525,
          -0.4831248995319974,
          0.13760669633919673,
          -0.0059344531520807466,
          -0.02990378123154062,
          -0.3188361133099112,
          0.1715751788194387,
          -0.436378046637005,
          0.5419596662910849,
          0.4983426019464571
         ],
         "y": [
          -0.07206085909971727,
          0.04952647299455325,
          0.06687031872313076,
          -0.10667068443186041,
          -0.07304017437896212,
          -0.09029877656245953,
          -0.10924027854337882,
          -0.05454866829543872,
          -0.19578703180595355,
          -0.07095531061033093,
          0.0029047122713784126,
          -0.0012529182954295894,
          -0.04291696735386049,
          0.15297574660174384,
          0.06715583845362465,
          -0.02028834928436443,
          -0.13191533272547656,
          -0.12258981245989681,
          0.14442032775105337,
          -0.13003409983258155,
          -0.059689891133643216,
          -0.0660046791952761,
          0.4232088103399234,
          -0.12832335028204375,
          0.027056238384445187,
          -0.02929149478684742,
          0.09672411337821307,
          -0.1359195920412224,
          -0.08163246048707955,
          -0.06805605969504017,
          -0.02592623904336067,
          0.0427639215874752,
          0.0649762396269652,
          0.11923237223286519,
          0.02800574425128916,
          0.12682826063047212,
          -0.041097560144130206,
          -0.00020221481890893742,
          0.1173763544170473,
          -0.09285188279766766,
          0.024458318917566692,
          -0.06295216581896486,
          -0.25673495890070414,
          -0.006970424240492888,
          -0.03501335458555911,
          0.022745213795464733,
          -0.03751291086322725,
          0.019452750038873798,
          0.09069195759022504,
          0.13093450542682722,
          0.19684540712121265,
          -0.004065272680568336,
          0.47176888950198825,
          0.014829351980268024,
          -0.1505809282771952,
          -0.10459145972276229,
          -0.006923564293427136,
          0.23549738780353022,
          0.04561090297901677,
          -0.18275604491384875,
          -0.0570195805651501,
          -0.1275515556254723,
          0.06410883443373956,
          -0.06641935901617212,
          0.3636300917854799,
          0.033929444165536865,
          0.05832144056637338,
          -0.09631371514207968,
          -0.03283469637701479,
          0.19974348420685298,
          0.1047145317635023,
          0.03644240665954921,
          -0.16098200253842795,
          -0.08753941399949021,
          0.2425579345333457,
          -0.03252184576587153,
          0.05273271763032858,
          -0.12393875414261345,
          -0.07241635671129636,
          -0.020000151076036348,
          -0.11383335835486602,
          -0.03218486549060415,
          0.02763125336554824,
          0.02572141183995303,
          0.19371590877057154,
          0.07522602044007129,
          0.001412428832127705,
          -0.10443551816763655,
          -0.005212415746467281,
          -0.18227347493649276,
          0.05509981038744799,
          -0.06214230229682642,
          -0.03315398590573275,
          0.18201576060098132,
          -0.08590386082805772,
          -0.08351034675977845,
          -0.08079825197234333,
          0.040788912390830226,
          -0.1307703497596036,
          0.12175580793190487,
          -0.09645099250057568,
          0.02449456897699281
         ],
         "z": [
          -0.05102968321892656,
          -0.06212001318587329,
          0.046413475686424836,
          -0.005417552118646184,
          -0.043236329457098426,
          -0.043630368999603895,
          -0.018752297049395385,
          -0.05032280581462739,
          0.03996666053161976,
          -0.0550483439002123,
          0.12299588662927842,
          -0.052381806819066026,
          0.13067524070828512,
          -0.03829793115612796,
          -0.043965163698534496,
          0.005787225261244827,
          -0.009476269206669522,
          0.052946326290895636,
          0.08024081165474357,
          0.10715140504561074,
          0.11149739668423266,
          -0.04670704913415578,
          -0.06099384483869348,
          0.015785563038748965,
          0.01265291090736646,
          -0.02586865673233444,
          -0.012865996596468936,
          -0.020273758035248828,
          0.006781606916955876,
          -0.05992930817007864,
          -0.07118193594540005,
          -0.061987480499098524,
          -0.05939557644059113,
          0.1025578945687603,
          0.009406774433423045,
          -0.01896356966085434,
          -0.05686881005092837,
          -0.05948276265292406,
          -0.055507813788994845,
          -0.00851777623567027,
          -0.022847729783055423,
          -0.04319346053144394,
          0.024012496916634374,
          -0.06498440902441524,
          -0.07130036741284788,
          -0.06639508279893142,
          -0.06976651973572111,
          -0.012788400371406007,
          0.029852587610706943,
          -0.03644490349346671,
          -0.0002572948239964185,
          -0.005880981357899542,
          -0.07589197908830747,
          -0.018248723710656903,
          0.00022793825710320517,
          0.03392442553110574,
          -0.04507927220729565,
          0.1022163359767751,
          0.0408221898057754,
          0.014924153827899859,
          0.08777569389703715,
          -0.026969618016645276,
          -0.052094453945643555,
          0.01475611923950422,
          0.10166380779038928,
          -0.04983556552369873,
          -0.026572033629311476,
          -0.0029415586572530852,
          0.01040655070858126,
          0.06841614594119214,
          0.11505785076664289,
          0.02122589430034683,
          -0.005379295217069764,
          0.03865939444956824,
          0.025395821163756906,
          0.07305113252831393,
          -0.01507887145158124,
          -0.0077515172282062,
          -0.025010243099705395,
          0.0010195743219401532,
          -0.04380979241482142,
          0.02875806236778205,
          0.01758505403187592,
          0.0644275041419264,
          -0.04071604903019734,
          -0.010611845302257127,
          -0.012490784963181713,
          -0.006189525262698065,
          0.0002540508225188648,
          0.0929348707247289,
          0.0445351349061389,
          -0.019129506971208982,
          0.07031932779545569,
          0.028261781545392425,
          -0.046016132174093775,
          -0.03133071220200902,
          -0.03815617857082013,
          0.04264263081543649,
          -0.0015793296216485369,
          0.009163859373686443,
          0.06404250130007097,
          -0.024227028188159222
         ]
        }
       ],
       "layout": {
        "height": 800,
        "scene": {
         "xaxis": {
          "title": {
           "text": "PC1"
          }
         },
         "yaxis": {
          "title": {
           "text": "PC2"
          }
         },
         "zaxis": {
          "title": {
           "text": "PC3"
          }
         }
        },
        "template": {
         "data": {
          "bar": [
           {
            "error_x": {
             "color": "#2a3f5f"
            },
            "error_y": {
             "color": "#2a3f5f"
            },
            "marker": {
             "line": {
              "color": "#E5ECF6",
              "width": 0.5
             },
             "pattern": {
              "fillmode": "overlay",
              "size": 10,
              "solidity": 0.2
             }
            },
            "type": "bar"
           }
          ],
          "barpolar": [
           {
            "marker": {
             "line": {
              "color": "#E5ECF6",
              "width": 0.5
             },
             "pattern": {
              "fillmode": "overlay",
              "size": 10,
              "solidity": 0.2
             }
            },
            "type": "barpolar"
           }
          ],
          "carpet": [
           {
            "aaxis": {
             "endlinecolor": "#2a3f5f",
             "gridcolor": "white",
             "linecolor": "white",
             "minorgridcolor": "white",
             "startlinecolor": "#2a3f5f"
            },
            "baxis": {
             "endlinecolor": "#2a3f5f",
             "gridcolor": "white",
             "linecolor": "white",
             "minorgridcolor": "white",
             "startlinecolor": "#2a3f5f"
            },
            "type": "carpet"
           }
          ],
          "choropleth": [
           {
            "colorbar": {
             "outlinewidth": 0,
             "ticks": ""
            },
            "type": "choropleth"
           }
          ],
          "contour": [
           {
            "colorbar": {
             "outlinewidth": 0,
             "ticks": ""
            },
            "colorscale": [
             [
              0,
              "#0d0887"
             ],
             [
              0.1111111111111111,
              "#46039f"
             ],
             [
              0.2222222222222222,
              "#7201a8"
             ],
             [
              0.3333333333333333,
              "#9c179e"
             ],
             [
              0.4444444444444444,
              "#bd3786"
             ],
             [
              0.5555555555555556,
              "#d8576b"
             ],
             [
              0.6666666666666666,
              "#ed7953"
             ],
             [
              0.7777777777777778,
              "#fb9f3a"
             ],
             [
              0.8888888888888888,
              "#fdca26"
             ],
             [
              1,
              "#f0f921"
             ]
            ],
            "type": "contour"
           }
          ],
          "contourcarpet": [
           {
            "colorbar": {
             "outlinewidth": 0,
             "ticks": ""
            },
            "type": "contourcarpet"
           }
          ],
          "heatmap": [
           {
            "colorbar": {
             "outlinewidth": 0,
             "ticks": ""
            },
            "colorscale": [
             [
              0,
              "#0d0887"
             ],
             [
              0.1111111111111111,
              "#46039f"
             ],
             [
              0.2222222222222222,
              "#7201a8"
             ],
             [
              0.3333333333333333,
              "#9c179e"
             ],
             [
              0.4444444444444444,
              "#bd3786"
             ],
             [
              0.5555555555555556,
              "#d8576b"
             ],
             [
              0.6666666666666666,
              "#ed7953"
             ],
             [
              0.7777777777777778,
              "#fb9f3a"
             ],
             [
              0.8888888888888888,
              "#fdca26"
             ],
             [
              1,
              "#f0f921"
             ]
            ],
            "type": "heatmap"
           }
          ],
          "heatmapgl": [
           {
            "colorbar": {
             "outlinewidth": 0,
             "ticks": ""
            },
            "colorscale": [
             [
              0,
              "#0d0887"
             ],
             [
              0.1111111111111111,
              "#46039f"
             ],
             [
              0.2222222222222222,
              "#7201a8"
             ],
             [
              0.3333333333333333,
              "#9c179e"
             ],
             [
              0.4444444444444444,
              "#bd3786"
             ],
             [
              0.5555555555555556,
              "#d8576b"
             ],
             [
              0.6666666666666666,
              "#ed7953"
             ],
             [
              0.7777777777777778,
              "#fb9f3a"
             ],
             [
              0.8888888888888888,
              "#fdca26"
             ],
             [
              1,
              "#f0f921"
             ]
            ],
            "type": "heatmapgl"
           }
          ],
          "histogram": [
           {
            "marker": {
             "pattern": {
              "fillmode": "overlay",
              "size": 10,
              "solidity": 0.2
             }
            },
            "type": "histogram"
           }
          ],
          "histogram2d": [
           {
            "colorbar": {
             "outlinewidth": 0,
             "ticks": ""
            },
            "colorscale": [
             [
              0,
              "#0d0887"
             ],
             [
              0.1111111111111111,
              "#46039f"
             ],
             [
              0.2222222222222222,
              "#7201a8"
             ],
             [
              0.3333333333333333,
              "#9c179e"
             ],
             [
              0.4444444444444444,
              "#bd3786"
             ],
             [
              0.5555555555555556,
              "#d8576b"
             ],
             [
              0.6666666666666666,
              "#ed7953"
             ],
             [
              0.7777777777777778,
              "#fb9f3a"
             ],
             [
              0.8888888888888888,
              "#fdca26"
             ],
             [
              1,
              "#f0f921"
             ]
            ],
            "type": "histogram2d"
           }
          ],
          "histogram2dcontour": [
           {
            "colorbar": {
             "outlinewidth": 0,
             "ticks": ""
            },
            "colorscale": [
             [
              0,
              "#0d0887"
             ],
             [
              0.1111111111111111,
              "#46039f"
             ],
             [
              0.2222222222222222,
              "#7201a8"
             ],
             [
              0.3333333333333333,
              "#9c179e"
             ],
             [
              0.4444444444444444,
              "#bd3786"
             ],
             [
              0.5555555555555556,
              "#d8576b"
             ],
             [
              0.6666666666666666,
              "#ed7953"
             ],
             [
              0.7777777777777778,
              "#fb9f3a"
             ],
             [
              0.8888888888888888,
              "#fdca26"
             ],
             [
              1,
              "#f0f921"
             ]
            ],
            "type": "histogram2dcontour"
           }
          ],
          "mesh3d": [
           {
            "colorbar": {
             "outlinewidth": 0,
             "ticks": ""
            },
            "type": "mesh3d"
           }
          ],
          "parcoords": [
           {
            "line": {
             "colorbar": {
              "outlinewidth": 0,
              "ticks": ""
             }
            },
            "type": "parcoords"
           }
          ],
          "pie": [
           {
            "automargin": true,
            "type": "pie"
           }
          ],
          "scatter": [
           {
            "fillpattern": {
             "fillmode": "overlay",
             "size": 10,
             "solidity": 0.2
            },
            "type": "scatter"
           }
          ],
          "scatter3d": [
           {
            "line": {
             "colorbar": {
              "outlinewidth": 0,
              "ticks": ""
             }
            },
            "marker": {
             "colorbar": {
              "outlinewidth": 0,
              "ticks": ""
             }
            },
            "type": "scatter3d"
           }
          ],
          "scattercarpet": [
           {
            "marker": {
             "colorbar": {
              "outlinewidth": 0,
              "ticks": ""
             }
            },
            "type": "scattercarpet"
           }
          ],
          "scattergeo": [
           {
            "marker": {
             "colorbar": {
              "outlinewidth": 0,
              "ticks": ""
             }
            },
            "type": "scattergeo"
           }
          ],
          "scattergl": [
           {
            "marker": {
             "colorbar": {
              "outlinewidth": 0,
              "ticks": ""
             }
            },
            "type": "scattergl"
           }
          ],
          "scattermapbox": [
           {
            "marker": {
             "colorbar": {
              "outlinewidth": 0,
              "ticks": ""
             }
            },
            "type": "scattermapbox"
           }
          ],
          "scatterpolar": [
           {
            "marker": {
             "colorbar": {
              "outlinewidth": 0,
              "ticks": ""
             }
            },
            "type": "scatterpolar"
           }
          ],
          "scatterpolargl": [
           {
            "marker": {
             "colorbar": {
              "outlinewidth": 0,
              "ticks": ""
             }
            },
            "type": "scatterpolargl"
           }
          ],
          "scatterternary": [
           {
            "marker": {
             "colorbar": {
              "outlinewidth": 0,
              "ticks": ""
             }
            },
            "type": "scatterternary"
           }
          ],
          "surface": [
           {
            "colorbar": {
             "outlinewidth": 0,
             "ticks": ""
            },
            "colorscale": [
             [
              0,
              "#0d0887"
             ],
             [
              0.1111111111111111,
              "#46039f"
             ],
             [
              0.2222222222222222,
              "#7201a8"
             ],
             [
              0.3333333333333333,
              "#9c179e"
             ],
             [
              0.4444444444444444,
              "#bd3786"
             ],
             [
              0.5555555555555556,
              "#d8576b"
             ],
             [
              0.6666666666666666,
              "#ed7953"
             ],
             [
              0.7777777777777778,
              "#fb9f3a"
             ],
             [
              0.8888888888888888,
              "#fdca26"
             ],
             [
              1,
              "#f0f921"
             ]
            ],
            "type": "surface"
           }
          ],
          "table": [
           {
            "cells": {
             "fill": {
              "color": "#EBF0F8"
             },
             "line": {
              "color": "white"
             }
            },
            "header": {
             "fill": {
              "color": "#C8D4E3"
             },
             "line": {
              "color": "white"
             }
            },
            "type": "table"
           }
          ]
         },
         "layout": {
          "annotationdefaults": {
           "arrowcolor": "#2a3f5f",
           "arrowhead": 0,
           "arrowwidth": 1
          },
          "autotypenumbers": "strict",
          "coloraxis": {
           "colorbar": {
            "outlinewidth": 0,
            "ticks": ""
           }
          },
          "colorscale": {
           "diverging": [
            [
             0,
             "#8e0152"
            ],
            [
             0.1,
             "#c51b7d"
            ],
            [
             0.2,
             "#de77ae"
            ],
            [
             0.3,
             "#f1b6da"
            ],
            [
             0.4,
             "#fde0ef"
            ],
            [
             0.5,
             "#f7f7f7"
            ],
            [
             0.6,
             "#e6f5d0"
            ],
            [
             0.7,
             "#b8e186"
            ],
            [
             0.8,
             "#7fbc41"
            ],
            [
             0.9,
             "#4d9221"
            ],
            [
             1,
             "#276419"
            ]
           ],
           "sequential": [
            [
             0,
             "#0d0887"
            ],
            [
             0.1111111111111111,
             "#46039f"
            ],
            [
             0.2222222222222222,
             "#7201a8"
            ],
            [
             0.3333333333333333,
             "#9c179e"
            ],
            [
             0.4444444444444444,
             "#bd3786"
            ],
            [
             0.5555555555555556,
             "#d8576b"
            ],
            [
             0.6666666666666666,
             "#ed7953"
            ],
            [
             0.7777777777777778,
             "#fb9f3a"
            ],
            [
             0.8888888888888888,
             "#fdca26"
            ],
            [
             1,
             "#f0f921"
            ]
           ],
           "sequentialminus": [
            [
             0,
             "#0d0887"
            ],
            [
             0.1111111111111111,
             "#46039f"
            ],
            [
             0.2222222222222222,
             "#7201a8"
            ],
            [
             0.3333333333333333,
             "#9c179e"
            ],
            [
             0.4444444444444444,
             "#bd3786"
            ],
            [
             0.5555555555555556,
             "#d8576b"
            ],
            [
             0.6666666666666666,
             "#ed7953"
            ],
            [
             0.7777777777777778,
             "#fb9f3a"
            ],
            [
             0.8888888888888888,
             "#fdca26"
            ],
            [
             1,
             "#f0f921"
            ]
           ]
          },
          "colorway": [
           "#636efa",
           "#EF553B",
           "#00cc96",
           "#ab63fa",
           "#FFA15A",
           "#19d3f3",
           "#FF6692",
           "#B6E880",
           "#FF97FF",
           "#FECB52"
          ],
          "font": {
           "color": "#2a3f5f"
          },
          "geo": {
           "bgcolor": "white",
           "lakecolor": "white",
           "landcolor": "#E5ECF6",
           "showlakes": true,
           "showland": true,
           "subunitcolor": "white"
          },
          "hoverlabel": {
           "align": "left"
          },
          "hovermode": "closest",
          "mapbox": {
           "style": "light"
          },
          "paper_bgcolor": "white",
          "plot_bgcolor": "#E5ECF6",
          "polar": {
           "angularaxis": {
            "gridcolor": "white",
            "linecolor": "white",
            "ticks": ""
           },
           "bgcolor": "#E5ECF6",
           "radialaxis": {
            "gridcolor": "white",
            "linecolor": "white",
            "ticks": ""
           }
          },
          "scene": {
           "xaxis": {
            "backgroundcolor": "#E5ECF6",
            "gridcolor": "white",
            "gridwidth": 2,
            "linecolor": "white",
            "showbackground": true,
            "ticks": "",
            "zerolinecolor": "white"
           },
           "yaxis": {
            "backgroundcolor": "#E5ECF6",
            "gridcolor": "white",
            "gridwidth": 2,
            "linecolor": "white",
            "showbackground": true,
            "ticks": "",
            "zerolinecolor": "white"
           },
           "zaxis": {
            "backgroundcolor": "#E5ECF6",
            "gridcolor": "white",
            "gridwidth": 2,
            "linecolor": "white",
            "showbackground": true,
            "ticks": "",
            "zerolinecolor": "white"
           }
          },
          "shapedefaults": {
           "line": {
            "color": "#2a3f5f"
           }
          },
          "ternary": {
           "aaxis": {
            "gridcolor": "white",
            "linecolor": "white",
            "ticks": ""
           },
           "baxis": {
            "gridcolor": "white",
            "linecolor": "white",
            "ticks": ""
           },
           "bgcolor": "#E5ECF6",
           "caxis": {
            "gridcolor": "white",
            "linecolor": "white",
            "ticks": ""
           }
          },
          "title": {
           "x": 0.05
          },
          "xaxis": {
           "automargin": true,
           "gridcolor": "white",
           "linecolor": "white",
           "ticks": "",
           "title": {
            "standoff": 15
           },
           "zerolinecolor": "white",
           "zerolinewidth": 2
          },
          "yaxis": {
           "automargin": true,
           "gridcolor": "white",
           "linecolor": "white",
           "ticks": "",
           "title": {
            "standoff": 15
           },
           "zerolinecolor": "white",
           "zerolinewidth": 2
          }
         }
        },
        "title": {
         "text": "PCA on latent vectors"
        },
        "width": 800
       }
      }
     },
     "metadata": {},
     "output_type": "display_data"
    }
   ],
   "source": [
    "plot_3d_pca(X_latents_700_300, color)"
   ]
  },
  {
   "cell_type": "markdown",
   "metadata": {},
   "source": [
    "# 2D analysis"
   ]
  },
  {
   "cell_type": "code",
   "execution_count": 132,
   "metadata": {},
   "outputs": [
    {
     "ename": "TypeError",
     "evalue": "plot_2d_pca() missing 1 required positional argument: 'labels'",
     "output_type": "error",
     "traceback": [
      "\u001b[1;31m---------------------------------------------------------------------------\u001b[0m",
      "\u001b[1;31mTypeError\u001b[0m                                 Traceback (most recent call last)",
      "Cell \u001b[1;32mIn[132], line 1\u001b[0m\n\u001b[1;32m----> 1\u001b[0m \u001b[43mplot_2d_pca\u001b[49m\u001b[43m(\u001b[49m\u001b[43mX_latents\u001b[49m\u001b[43m,\u001b[49m\u001b[43m \u001b[49m\u001b[43my_latents\u001b[49m\u001b[43m)\u001b[49m\n",
      "\u001b[1;31mTypeError\u001b[0m: plot_2d_pca() missing 1 required positional argument: 'labels'"
     ]
    }
   ],
   "source": [
    "plot_2d_pca(X_latents, y_latents)"
   ]
  },
  {
   "cell_type": "code",
   "execution_count": 177,
   "metadata": {},
   "outputs": [
    {
     "data": {
      "image/png": "[encoded data removed]",
      "text/plain": [
       "<Figure size 640x480 with 1 Axes>"
      ]
     },
     "metadata": {},
     "output_type": "display_data"
    }
   ],
   "source": [
    "plot_2d_pca(X_latents_700_300, color, labels)"
   ]
  },
  {
   "cell_type": "markdown",
   "metadata": {},
   "source": [
    "# Predicting with PCA"
   ]
  },
  {
   "cell_type": "code",
   "execution_count": 178,
   "metadata": {},
   "outputs": [],
   "source": [
    "n_components = 2\n",
    "pca = PCA(n_components=n_components)\n",
    "X_latents_pca = pca.fit_transform(X_latents)\n",
    "\n",
    "X_latents_700_pca = pca.transform(X_latents_700)"
   ]
  },
  {
   "cell_type": "code",
   "execution_count": 179,
   "metadata": {},
   "outputs": [
    {
     "name": "stdout",
     "output_type": "stream",
     "text": [
      "Cross-validation score:\n",
      "Recall: 0.8615384615384617 Accuracy: 0.7320261437908496\n",
      "Predictions on over 700 data: [1 0 1 0 1 1 1 1 0 1 1 0 1 1 1 0 1 0 1 1 1 1 0 0 1 1 1 1 1 1 1 1 0 1 1 1 1\n",
      " 1 1 1 1 1 1 1 1 1] Accuracy 0.1956521739130435\n"
     ]
    }
   ],
   "source": [
    "X_train, X_test, y_train, y_test = train_test_split(X_latents_pca, y_latents, test_size=0.4, random_state=42, stratify=y_latents)\n",
    "\n",
    "cv_scores_rec = cross_val_score(clf, X_latents_pca, y_latents, cv=5, scoring='recall')\n",
    "cv_scores_acc = cross_val_score(clf, X_latents_pca, y_latents, cv=5, scoring='accuracy')\n",
    "\n",
    "clf = RandomForestClassifier(random_state=42)\n",
    "clf.fit(X_train, y_train)\n",
    "\n",
    "print(\"Cross-validation score:\")\n",
    "print('Recall:', np.mean(cv_scores_rec), 'Accuracy:', np.mean(cv_scores_acc))\n",
    "print('Predictions on over 700 data:', predictions := clf.predict(X_latents_700_pca), 'Accuracy', accuracy_score(predictions, np.zeros_like(predictions)))"
   ]
  },
  {
   "cell_type": "code",
   "execution_count": 180,
   "metadata": {},
   "outputs": [],
   "source": [
    "df_test2 = pd.read_csv('csv_data/LESS300_anonym.csv').drop(config.exclude_features, axis=1).drop(['mutation', 'name'], axis=1)"
   ]
  },
  {
   "cell_type": "code",
   "execution_count": 181,
   "metadata": {},
   "outputs": [],
   "source": [
    "df_test2['group'] = '<300'\n",
    "df_test2['label'] = 1"
   ]
  },
  {
   "cell_type": "code",
   "execution_count": 182,
   "metadata": {},
   "outputs": [],
   "source": [
    "df_test1 = df_test.copy()"
   ]
  },
  {
   "cell_type": "code",
   "execution_count": 183,
   "metadata": {},
   "outputs": [],
   "source": [
    "df_test1['group'] = '>700'\n",
    "df_test1['label'] = 0"
   ]
  },
  {
   "cell_type": "code",
   "execution_count": 184,
   "metadata": {},
   "outputs": [],
   "source": [
    "df_test_pca = pd.concat((df_test1, df_test2), axis=0)\n",
    "color_df_test = df_test_pca['label']\n",
    "labels_df_test = df_test_pca['group']\n",
    "df_test_pca.drop(['label', 'group'], axis=1, inplace=True)"
   ]
  },
  {
   "cell_type": "code",
   "execution_count": 185,
   "metadata": {},
   "outputs": [
    {
     "data": {
      "image/png": "[encoded data removed]",
      "text/plain": [
       "<Figure size 640x480 with 1 Axes>"
      ]
     },
     "metadata": {},
     "output_type": "display_data"
    }
   ],
   "source": [
    "plot_2d_pca(df_test_pca, color_df_test, labels_df_test)"
   ]
  },
  {
   "cell_type": "code",
   "execution_count": 187,
   "metadata": {},
   "outputs": [],
   "source": [
    "from psmpy import PsmPy"
   ]
  },
  {
   "cell_type": "code",
   "execution_count": 193,
   "metadata": {},
   "outputs": [],
   "source": [
    "df = df.reset_index()"
   ]
  },
  {
   "cell_type": "code",
   "execution_count": 195,
   "metadata": {},
   "outputs": [
    {
     "name": "stderr",
     "output_type": "stream",
     "text": [
      "c:\\Users\\kungu\\AppData\\Local\\Programs\\Python\\Python311\\Lib\\site-packages\\psmpy\\psmpy.py:363: UserWarning:\n",
      "\n",
      "Some values do not have a match. These are dropped for purposes of establishing a matched dataframe, and subsequent calculations and plots (effect size). If you do not wish this to be the case please set drop_unmatched=False\n",
      "\n"
     ]
    }
   ],
   "source": [
    "psm = PsmPy(df, treatment='mutation', indx='index')\n",
    "psm.logistic_ps()\n",
    "psm.knn_matched(matcher='propensity_logit', drop_unmatched=True)"
   ]
  },
  {
   "cell_type": "code",
   "execution_count": 206,
   "metadata": {},
   "outputs": [],
   "source": [
    "new_df = psm.df_matched.drop(['matched_ID', 'index', 'propensity_score', 'propensity_logit'], axis=1)\n",
    "new_labels = new_df['mutation']\n",
    "new_df.drop('mutation', axis=1, inplace=True)"
   ]
  },
  {
   "cell_type": "code",
   "execution_count": 211,
   "metadata": {},
   "outputs": [
    {
     "ename": "InvalidParameterError",
     "evalue": "The 'cv' parameter of cross_val_score must be an int in the range [2, inf), an object implementing 'split' and 'get_n_splits', an iterable or None. Got 1 instead.",
     "output_type": "error",
     "traceback": [
      "\u001b[1;31m---------------------------------------------------------------------------\u001b[0m",
      "\u001b[1;31mInvalidParameterError\u001b[0m                     Traceback (most recent call last)",
      "Cell \u001b[1;32mIn[211], line 6\u001b[0m\n\u001b[0;32m      3\u001b[0m clf \u001b[38;5;241m=\u001b[39m RandomForestClassifier(n_estimators\u001b[38;5;241m=\u001b[39m\u001b[38;5;241m100\u001b[39m, random_state\u001b[38;5;241m=\u001b[39m\u001b[38;5;241m42\u001b[39m)\n\u001b[0;32m      4\u001b[0m clf\u001b[38;5;241m.\u001b[39mfit(X_train, y_train)\n\u001b[1;32m----> 6\u001b[0m cv_scores_rec \u001b[38;5;241m=\u001b[39m \u001b[43mcross_val_score\u001b[49m\u001b[43m(\u001b[49m\u001b[43mclf\u001b[49m\u001b[43m,\u001b[49m\u001b[43m \u001b[49m\u001b[43mnew_df\u001b[49m\u001b[43m,\u001b[49m\u001b[43m \u001b[49m\u001b[43mnew_labels\u001b[49m\u001b[43m,\u001b[49m\u001b[43m \u001b[49m\u001b[43mcv\u001b[49m\u001b[38;5;241;43m=\u001b[39;49m\u001b[38;5;241;43m1\u001b[39;49m\u001b[43m,\u001b[49m\u001b[43m \u001b[49m\u001b[43mscoring\u001b[49m\u001b[38;5;241;43m=\u001b[39;49m\u001b[38;5;124;43m'\u001b[39;49m\u001b[38;5;124;43mrecall\u001b[39;49m\u001b[38;5;124;43m'\u001b[39;49m\u001b[43m)\u001b[49m\n\u001b[0;32m      7\u001b[0m cv_scores_acc \u001b[38;5;241m=\u001b[39m cross_val_score(clf, new_df, new_labels, cv\u001b[38;5;241m=\u001b[39m\u001b[38;5;241m1\u001b[39m, scoring\u001b[38;5;241m=\u001b[39m\u001b[38;5;124m'\u001b[39m\u001b[38;5;124maccuracy\u001b[39m\u001b[38;5;124m'\u001b[39m)\n\u001b[0;32m      9\u001b[0m \u001b[38;5;28mprint\u001b[39m(\u001b[38;5;124m\"\u001b[39m\u001b[38;5;124mCross-validation score:\u001b[39m\u001b[38;5;124m\"\u001b[39m)\n",
      "File \u001b[1;32mc:\\Users\\kungu\\AppData\\Local\\Programs\\Python\\Python311\\Lib\\site-packages\\sklearn\\utils\\_param_validation.py:203\u001b[0m, in \u001b[0;36mvalidate_params.<locals>.decorator.<locals>.wrapper\u001b[1;34m(*args, **kwargs)\u001b[0m\n\u001b[0;32m    200\u001b[0m to_ignore \u001b[38;5;241m+\u001b[39m\u001b[38;5;241m=\u001b[39m [\u001b[38;5;124m\"\u001b[39m\u001b[38;5;124mself\u001b[39m\u001b[38;5;124m\"\u001b[39m, \u001b[38;5;124m\"\u001b[39m\u001b[38;5;124mcls\u001b[39m\u001b[38;5;124m\"\u001b[39m]\n\u001b[0;32m    201\u001b[0m params \u001b[38;5;241m=\u001b[39m {k: v \u001b[38;5;28;01mfor\u001b[39;00m k, v \u001b[38;5;129;01min\u001b[39;00m params\u001b[38;5;241m.\u001b[39marguments\u001b[38;5;241m.\u001b[39mitems() \u001b[38;5;28;01mif\u001b[39;00m k \u001b[38;5;129;01mnot\u001b[39;00m \u001b[38;5;129;01min\u001b[39;00m to_ignore}\n\u001b[1;32m--> 203\u001b[0m \u001b[43mvalidate_parameter_constraints\u001b[49m\u001b[43m(\u001b[49m\n\u001b[0;32m    204\u001b[0m \u001b[43m    \u001b[49m\u001b[43mparameter_constraints\u001b[49m\u001b[43m,\u001b[49m\u001b[43m \u001b[49m\u001b[43mparams\u001b[49m\u001b[43m,\u001b[49m\u001b[43m \u001b[49m\u001b[43mcaller_name\u001b[49m\u001b[38;5;241;43m=\u001b[39;49m\u001b[43mfunc\u001b[49m\u001b[38;5;241;43m.\u001b[39;49m\u001b[38;5;18;43m__qualname__\u001b[39;49m\n\u001b[0;32m    205\u001b[0m \u001b[43m\u001b[49m\u001b[43m)\u001b[49m\n\u001b[0;32m    207\u001b[0m \u001b[38;5;28;01mtry\u001b[39;00m:\n\u001b[0;32m    208\u001b[0m     \u001b[38;5;28;01mwith\u001b[39;00m config_context(\n\u001b[0;32m    209\u001b[0m         skip_parameter_validation\u001b[38;5;241m=\u001b[39m(\n\u001b[0;32m    210\u001b[0m             prefer_skip_nested_validation \u001b[38;5;129;01mor\u001b[39;00m global_skip_validation\n\u001b[0;32m    211\u001b[0m         )\n\u001b[0;32m    212\u001b[0m     ):\n",
      "File \u001b[1;32mc:\\Users\\kungu\\AppData\\Local\\Programs\\Python\\Python311\\Lib\\site-packages\\sklearn\\utils\\_param_validation.py:95\u001b[0m, in \u001b[0;36mvalidate_parameter_constraints\u001b[1;34m(parameter_constraints, params, caller_name)\u001b[0m\n\u001b[0;32m     89\u001b[0m \u001b[38;5;28;01melse\u001b[39;00m:\n\u001b[0;32m     90\u001b[0m     constraints_str \u001b[38;5;241m=\u001b[39m (\n\u001b[0;32m     91\u001b[0m         \u001b[38;5;124mf\u001b[39m\u001b[38;5;124m\"\u001b[39m\u001b[38;5;132;01m{\u001b[39;00m\u001b[38;5;124m'\u001b[39m\u001b[38;5;124m, \u001b[39m\u001b[38;5;124m'\u001b[39m\u001b[38;5;241m.\u001b[39mjoin([\u001b[38;5;28mstr\u001b[39m(c)\u001b[38;5;250m \u001b[39m\u001b[38;5;28;01mfor\u001b[39;00m\u001b[38;5;250m \u001b[39mc\u001b[38;5;250m \u001b[39m\u001b[38;5;129;01min\u001b[39;00m\u001b[38;5;250m \u001b[39mconstraints[:\u001b[38;5;241m-\u001b[39m\u001b[38;5;241m1\u001b[39m]])\u001b[38;5;132;01m}\u001b[39;00m\u001b[38;5;124m or\u001b[39m\u001b[38;5;124m\"\u001b[39m\n\u001b[0;32m     92\u001b[0m         \u001b[38;5;124mf\u001b[39m\u001b[38;5;124m\"\u001b[39m\u001b[38;5;124m \u001b[39m\u001b[38;5;132;01m{\u001b[39;00mconstraints[\u001b[38;5;241m-\u001b[39m\u001b[38;5;241m1\u001b[39m]\u001b[38;5;132;01m}\u001b[39;00m\u001b[38;5;124m\"\u001b[39m\n\u001b[0;32m     93\u001b[0m     )\n\u001b[1;32m---> 95\u001b[0m \u001b[38;5;28;01mraise\u001b[39;00m InvalidParameterError(\n\u001b[0;32m     96\u001b[0m     \u001b[38;5;124mf\u001b[39m\u001b[38;5;124m\"\u001b[39m\u001b[38;5;124mThe \u001b[39m\u001b[38;5;132;01m{\u001b[39;00mparam_name\u001b[38;5;132;01m!r}\u001b[39;00m\u001b[38;5;124m parameter of \u001b[39m\u001b[38;5;132;01m{\u001b[39;00mcaller_name\u001b[38;5;132;01m}\u001b[39;00m\u001b[38;5;124m must be\u001b[39m\u001b[38;5;124m\"\u001b[39m\n\u001b[0;32m     97\u001b[0m     \u001b[38;5;124mf\u001b[39m\u001b[38;5;124m\"\u001b[39m\u001b[38;5;124m \u001b[39m\u001b[38;5;132;01m{\u001b[39;00mconstraints_str\u001b[38;5;132;01m}\u001b[39;00m\u001b[38;5;124m. Got \u001b[39m\u001b[38;5;132;01m{\u001b[39;00mparam_val\u001b[38;5;132;01m!r}\u001b[39;00m\u001b[38;5;124m instead.\u001b[39m\u001b[38;5;124m\"\u001b[39m\n\u001b[0;32m     98\u001b[0m )\n",
      "\u001b[1;31mInvalidParameterError\u001b[0m: The 'cv' parameter of cross_val_score must be an int in the range [2, inf), an object implementing 'split' and 'get_n_splits', an iterable or None. Got 1 instead."
     ]
    }
   ],
   "source": [
    "X_train, X_test, y_train, y_test = train_test_split(new_df, new_labels, test_size=0.2, random_state=42, stratify=new_labels)\n",
    "\n",
    "clf = RandomForestClassifier(n_estimators=100, random_state=42)\n",
    "clf.fit(X_train, y_train)\n",
    "\n",
    "cv_scores_rec = cross_val_score(clf, new_df, new_labels, cv=2, scoring='recall')\n",
    "cv_scores_acc = cross_val_score(clf, new_df, new_labels, cv=2, scoring='accuracy')\n",
    "\n",
    "print(\"Cross-validation score:\")\n",
    "print('Recall:', np.mean(cv_scores_rec), 'Accuracy:', np.mean(cv_scores_acc))\n",
    "print('Predictions on over 700 data:', predictions := clf.predict(df_test), 'Accuracy', accuracy_score(predictions, np.zeros_like(predictions)))"
   ]
  },
  {
   "cell_type": "code",
   "execution_count": null,
   "metadata": {},
   "outputs": [],
   "source": []
  }
 ],
 "metadata": {
  "kernelspec": {
   "display_name": ".venv",
   "language": "python",
   "name": "python3"
  },
  "language_info": {
   "codemirror_mode": {
    "name": "ipython",
    "version": 3
   },
   "file_extension": ".py",
   "mimetype": "text/x-python",
   "name": "python",
   "nbconvert_exporter": "python",
   "pygments_lexer": "ipython3",
   "version": "3.11.9"
  }
 },
 "nbformat": 4,
 "nbformat_minor": 2
}
